{
 "cells": [
  {
   "cell_type": "markdown",
   "metadata": {},
   "source": [
    "### This notebook will be mainly used for the capstone project."
   ]
  },
  {
   "cell_type": "code",
   "execution_count": 1,
   "metadata": {},
   "outputs": [],
   "source": [
    "import pandas as pd\n",
    "import numpy as np"
   ]
  },
  {
   "cell_type": "code",
   "execution_count": 2,
   "metadata": {},
   "outputs": [
    {
     "name": "stdout",
     "output_type": "stream",
     "text": [
      "Hello Capstone Project Course!\n"
     ]
    }
   ],
   "source": [
    "print('Hello Capstone Project Course!')"
   ]
  },
  {
   "cell_type": "markdown",
   "metadata": {},
   "source": [
    "## Content\n",
    "\n",
    "[1.  Segmenting and Clustering Neighborhoods in Toronto](#01)<br>\n",
    "[2. Use the Geocoder package or the csv file to create the following dataframe:](#02)<br>\n",
    "[3. Explore and cluster the neighborhoods in Toronto.](#03)<br>"
   ]
  },
  {
   "cell_type": "markdown",
   "metadata": {},
   "source": [
    "<a id='01'></a>\n",
    "## Segmenting and Clustering Neighborhoods in Toronto"
   ]
  },
  {
   "cell_type": "markdown",
   "metadata": {},
   "source": [
    "#### Use the Notebook to build the code to scrape the following Wikipedia page, https://en.wikipedia.org/wiki/List_of_postal_codes_of_Canada:_M, in order to obtain the data that is in the table of postal codes and to transform the data into a pandas dataframe like the one shown below:**"
   ]
  },
  {
   "cell_type": "code",
   "execution_count": 7,
   "metadata": {},
   "outputs": [],
   "source": [
    "#!pip install bs4"
   ]
  },
  {
   "cell_type": "code",
   "execution_count": 6,
   "metadata": {},
   "outputs": [],
   "source": [
    "import requests\n",
    "from bs4 import BeautifulSoup"
   ]
  },
  {
   "cell_type": "code",
   "execution_count": 8,
   "metadata": {},
   "outputs": [],
   "source": [
    "# URL Wikipedia page \"List of postal codes of Canada: M\"\n",
    "url = \"https://en.wikipedia.org/wiki/List_of_postal_codes_of_Canada:_M\""
   ]
  },
  {
   "cell_type": "code",
   "execution_count": 9,
   "metadata": {},
   "outputs": [
    {
     "data": {
      "text/plain": [
       "<Response [200]>"
      ]
     },
     "execution_count": 9,
     "metadata": {},
     "output_type": "execute_result"
    }
   ],
   "source": [
    "s = requests.Session()\n",
    "response = s.get(url, timeout = 10)\n",
    "response"
   ]
  },
  {
   "cell_type": "code",
   "execution_count": 10,
   "metadata": {},
   "outputs": [],
   "source": [
    "# parse response content to html\n",
    "soup = BeautifulSoup(response.content, 'html.parser')\n",
    "# to view the content in html format\n",
    "pretty_soup = soup.prettify()"
   ]
  },
  {
   "cell_type": "code",
   "execution_count": 11,
   "metadata": {},
   "outputs": [],
   "source": [
    "wiki_table = soup.find('table',{ \"class\":\"wikitable sortable\"})"
   ]
  },
  {
   "cell_type": "code",
   "execution_count": 12,
   "metadata": {},
   "outputs": [
    {
     "data": {
      "text/plain": [
       "3"
      ]
     },
     "execution_count": 12,
     "metadata": {},
     "output_type": "execute_result"
    }
   ],
   "source": [
    "# Number of columns in the table\n",
    "for row in wiki_table.findAll(\"tr\"):\n",
    "    cells = row.findAll('td')\n",
    "\n",
    "len(cells)"
   ]
  },
  {
   "cell_type": "code",
   "execution_count": 13,
   "metadata": {},
   "outputs": [
    {
     "data": {
      "text/plain": [
       "181"
      ]
     },
     "execution_count": 13,
     "metadata": {},
     "output_type": "execute_result"
    }
   ],
   "source": [
    "# number of rows in the table including header\n",
    "rows = wiki_table.findAll(\"tr\")\n",
    "len(rows)"
   ]
  },
  {
   "cell_type": "code",
   "execution_count": 14,
   "metadata": {},
   "outputs": [
    {
     "name": "stdout",
     "output_type": "stream",
     "text": [
      "['Postal Code', 'Borough', 'Neighbourhood']\n",
      "------------\n",
      "3\n"
     ]
    }
   ],
   "source": [
    "# header attributes of the table\n",
    "header = [th.text.rstrip() for th in rows[0].find_all('th')]\n",
    "print(header)\n",
    "print('------------')\n",
    "print(len(header))"
   ]
  },
  {
   "cell_type": "code",
   "execution_count": 15,
   "metadata": {},
   "outputs": [],
   "source": [
    "#get tabular data\n",
    "lst_data = []\n",
    "for row in rows[1:]:\n",
    "            data = [d.text.rstrip() for d in row.find_all('td')]\n",
    "            lst_data.append(data)"
   ]
  },
  {
   "cell_type": "code",
   "execution_count": 16,
   "metadata": {},
   "outputs": [],
   "source": [
    "# select also works as find_all\n",
    "lst_data1 = []\n",
    "for row in rows[1:]:\n",
    "            data = [d.text.rstrip() for d in row.select('td')]\n",
    "            lst_data1.append(data)"
   ]
  },
  {
   "cell_type": "code",
   "execution_count": 17,
   "metadata": {},
   "outputs": [
    {
     "data": {
      "text/plain": [
       "[['M1A', 'Not assigned', 'Not assigned'],\n",
       " ['M2A', 'Not assigned', 'Not assigned'],\n",
       " ['M3A', 'North York', 'Parkwoods']]"
      ]
     },
     "execution_count": 17,
     "metadata": {},
     "output_type": "execute_result"
    }
   ],
   "source": [
    "# sample records\n",
    "lst_data1[0:3]"
   ]
  },
  {
   "cell_type": "markdown",
   "metadata": {},
   "source": [
    "#### Create the dataframe"
   ]
  },
  {
   "cell_type": "code",
   "execution_count": 18,
   "metadata": {},
   "outputs": [],
   "source": [
    "postal_codes_df = pd.DataFrame(lst_data1, columns = header)"
   ]
  },
  {
   "cell_type": "markdown",
   "metadata": {},
   "source": [
    "**The dataframe will consist of three columns: PostalCode, Borough, and Neighborhood**"
   ]
  },
  {
   "cell_type": "code",
   "execution_count": 19,
   "metadata": {},
   "outputs": [
    {
     "data": {
      "text/html": [
       "<div>\n",
       "<style scoped>\n",
       "    .dataframe tbody tr th:only-of-type {\n",
       "        vertical-align: middle;\n",
       "    }\n",
       "\n",
       "    .dataframe tbody tr th {\n",
       "        vertical-align: top;\n",
       "    }\n",
       "\n",
       "    .dataframe thead th {\n",
       "        text-align: right;\n",
       "    }\n",
       "</style>\n",
       "<table border=\"1\" class=\"dataframe\">\n",
       "  <thead>\n",
       "    <tr style=\"text-align: right;\">\n",
       "      <th></th>\n",
       "      <th>Postal Code</th>\n",
       "      <th>Borough</th>\n",
       "      <th>Neighbourhood</th>\n",
       "    </tr>\n",
       "  </thead>\n",
       "  <tbody>\n",
       "    <tr>\n",
       "      <th>0</th>\n",
       "      <td>M1A</td>\n",
       "      <td>Not assigned</td>\n",
       "      <td>Not assigned</td>\n",
       "    </tr>\n",
       "    <tr>\n",
       "      <th>1</th>\n",
       "      <td>M2A</td>\n",
       "      <td>Not assigned</td>\n",
       "      <td>Not assigned</td>\n",
       "    </tr>\n",
       "    <tr>\n",
       "      <th>2</th>\n",
       "      <td>M3A</td>\n",
       "      <td>North York</td>\n",
       "      <td>Parkwoods</td>\n",
       "    </tr>\n",
       "    <tr>\n",
       "      <th>3</th>\n",
       "      <td>M4A</td>\n",
       "      <td>North York</td>\n",
       "      <td>Victoria Village</td>\n",
       "    </tr>\n",
       "    <tr>\n",
       "      <th>4</th>\n",
       "      <td>M5A</td>\n",
       "      <td>Downtown Toronto</td>\n",
       "      <td>Regent Park, Harbourfront</td>\n",
       "    </tr>\n",
       "  </tbody>\n",
       "</table>\n",
       "</div>"
      ],
      "text/plain": [
       "  Postal Code           Borough              Neighbourhood\n",
       "0         M1A      Not assigned               Not assigned\n",
       "1         M2A      Not assigned               Not assigned\n",
       "2         M3A        North York                  Parkwoods\n",
       "3         M4A        North York           Victoria Village\n",
       "4         M5A  Downtown Toronto  Regent Park, Harbourfront"
      ]
     },
     "execution_count": 19,
     "metadata": {},
     "output_type": "execute_result"
    }
   ],
   "source": [
    "postal_codes_df.head()"
   ]
  },
  {
   "cell_type": "code",
   "execution_count": 20,
   "metadata": {},
   "outputs": [
    {
     "data": {
      "text/plain": [
       "(180, 3)"
      ]
     },
     "execution_count": 20,
     "metadata": {},
     "output_type": "execute_result"
    }
   ],
   "source": [
    "postal_codes_df.shape"
   ]
  },
  {
   "cell_type": "markdown",
   "metadata": {},
   "source": [
    "**Only process the cells that have an assigned borough. Ignore cells with a borough that is Not assigned.**"
   ]
  },
  {
   "cell_type": "markdown",
   "metadata": {},
   "source": [
    "**More than one neighborhood can exist in one postal code area. For example, in the table on the Wikipedia page, you will notice that M5A is listed twice and has two neighborhoods: Harbourfront and Regent Park. These two rows will be combined into one row with the neighborhoods separated with a comma as shown in row 3 in the below table.**"
   ]
  },
  {
   "cell_type": "code",
   "execution_count": 21,
   "metadata": {},
   "outputs": [
    {
     "data": {
      "text/html": [
       "<div>\n",
       "<style scoped>\n",
       "    .dataframe tbody tr th:only-of-type {\n",
       "        vertical-align: middle;\n",
       "    }\n",
       "\n",
       "    .dataframe tbody tr th {\n",
       "        vertical-align: top;\n",
       "    }\n",
       "\n",
       "    .dataframe thead th {\n",
       "        text-align: right;\n",
       "    }\n",
       "</style>\n",
       "<table border=\"1\" class=\"dataframe\">\n",
       "  <thead>\n",
       "    <tr style=\"text-align: right;\">\n",
       "      <th></th>\n",
       "      <th>Postal Code</th>\n",
       "      <th>Borough</th>\n",
       "      <th>Neighbourhood</th>\n",
       "    </tr>\n",
       "  </thead>\n",
       "  <tbody>\n",
       "    <tr>\n",
       "      <th>0</th>\n",
       "      <td>M3A</td>\n",
       "      <td>North York</td>\n",
       "      <td>Parkwoods</td>\n",
       "    </tr>\n",
       "    <tr>\n",
       "      <th>1</th>\n",
       "      <td>M4A</td>\n",
       "      <td>North York</td>\n",
       "      <td>Victoria Village</td>\n",
       "    </tr>\n",
       "    <tr>\n",
       "      <th>2</th>\n",
       "      <td>M5A</td>\n",
       "      <td>Downtown Toronto</td>\n",
       "      <td>Regent Park, Harbourfront</td>\n",
       "    </tr>\n",
       "    <tr>\n",
       "      <th>3</th>\n",
       "      <td>M6A</td>\n",
       "      <td>North York</td>\n",
       "      <td>Lawrence Manor, Lawrence Heights</td>\n",
       "    </tr>\n",
       "    <tr>\n",
       "      <th>4</th>\n",
       "      <td>M7A</td>\n",
       "      <td>Downtown Toronto</td>\n",
       "      <td>Queen's Park, Ontario Provincial Government</td>\n",
       "    </tr>\n",
       "  </tbody>\n",
       "</table>\n",
       "</div>"
      ],
      "text/plain": [
       "  Postal Code           Borough                                Neighbourhood\n",
       "0         M3A        North York                                    Parkwoods\n",
       "1         M4A        North York                             Victoria Village\n",
       "2         M5A  Downtown Toronto                    Regent Park, Harbourfront\n",
       "3         M6A        North York             Lawrence Manor, Lawrence Heights\n",
       "4         M7A  Downtown Toronto  Queen's Park, Ontario Provincial Government"
      ]
     },
     "execution_count": 21,
     "metadata": {},
     "output_type": "execute_result"
    }
   ],
   "source": [
    "postal_codes_df = postal_codes_df[postal_codes_df['Borough'] != 'Not assigned']\n",
    "postal_codes_df.reset_index(drop=True, inplace=True)\n",
    "#postal_codes_df.drop(columns=['index'], inplace=True)\n",
    "postal_codes_df.head()"
   ]
  },
  {
   "cell_type": "markdown",
   "metadata": {},
   "source": [
    "#### Use the .shape method to print the number of rows of your dataframe."
   ]
  },
  {
   "cell_type": "code",
   "execution_count": 22,
   "metadata": {},
   "outputs": [
    {
     "data": {
      "text/plain": [
       "(103, 3)"
      ]
     },
     "execution_count": 22,
     "metadata": {},
     "output_type": "execute_result"
    }
   ],
   "source": [
    "postal_codes_df.shape"
   ]
  },
  {
   "cell_type": "markdown",
   "metadata": {},
   "source": [
    "<a id='02'></a>\n",
    "## Use the Geocoder package or the csv file to create the dataframe:"
   ]
  },
  {
   "cell_type": "code",
   "execution_count": 26,
   "metadata": {},
   "outputs": [],
   "source": [
    "#!pip install geocoder"
   ]
  },
  {
   "cell_type": "code",
   "execution_count": 27,
   "metadata": {},
   "outputs": [],
   "source": [
    "import geocoder # import geocoder"
   ]
  },
  {
   "cell_type": "code",
   "execution_count": 28,
   "metadata": {},
   "outputs": [
    {
     "data": {
      "text/plain": [
       "\" This code doesn't work in my case \""
      ]
     },
     "execution_count": 28,
     "metadata": {},
     "output_type": "execute_result"
    }
   ],
   "source": [
    "''' This code doesn't work in my case '''\n",
    "# initialize your variable to None\n",
    "#lat_lng_coords = None\n",
    "\n",
    "# loop until you get the coordinates\n",
    "#for i in range(postal_codes_df.shape[0]):\n",
    "#    while(lat_lng_coords is None):\n",
    "#        g = geocoder.google('{}, Toronto, Ontario'.format(postal_codes_df['Postal Code'][i]))\n",
    "#        lat_lng_coords = g.latlng\n",
    "\n",
    "#latitude = lat_lng_coords[0]\n",
    "#longitude = lat_lng_coords[1]"
   ]
  },
  {
   "cell_type": "markdown",
   "metadata": {},
   "source": [
    "Just load geographical coordinates from provided file"
   ]
  },
  {
   "cell_type": "code",
   "execution_count": 29,
   "metadata": {},
   "outputs": [],
   "source": [
    "coordinates = pd.read_csv('Geospatial_Coordinates.csv')"
   ]
  },
  {
   "cell_type": "code",
   "execution_count": 30,
   "metadata": {},
   "outputs": [
    {
     "data": {
      "text/html": [
       "<div>\n",
       "<style scoped>\n",
       "    .dataframe tbody tr th:only-of-type {\n",
       "        vertical-align: middle;\n",
       "    }\n",
       "\n",
       "    .dataframe tbody tr th {\n",
       "        vertical-align: top;\n",
       "    }\n",
       "\n",
       "    .dataframe thead th {\n",
       "        text-align: right;\n",
       "    }\n",
       "</style>\n",
       "<table border=\"1\" class=\"dataframe\">\n",
       "  <thead>\n",
       "    <tr style=\"text-align: right;\">\n",
       "      <th></th>\n",
       "      <th>Postal Code</th>\n",
       "      <th>Latitude</th>\n",
       "      <th>Longitude</th>\n",
       "    </tr>\n",
       "  </thead>\n",
       "  <tbody>\n",
       "    <tr>\n",
       "      <th>0</th>\n",
       "      <td>M1B</td>\n",
       "      <td>43.806686</td>\n",
       "      <td>-79.194353</td>\n",
       "    </tr>\n",
       "    <tr>\n",
       "      <th>1</th>\n",
       "      <td>M1C</td>\n",
       "      <td>43.784535</td>\n",
       "      <td>-79.160497</td>\n",
       "    </tr>\n",
       "    <tr>\n",
       "      <th>2</th>\n",
       "      <td>M1E</td>\n",
       "      <td>43.763573</td>\n",
       "      <td>-79.188711</td>\n",
       "    </tr>\n",
       "    <tr>\n",
       "      <th>3</th>\n",
       "      <td>M1G</td>\n",
       "      <td>43.770992</td>\n",
       "      <td>-79.216917</td>\n",
       "    </tr>\n",
       "    <tr>\n",
       "      <th>4</th>\n",
       "      <td>M1H</td>\n",
       "      <td>43.773136</td>\n",
       "      <td>-79.239476</td>\n",
       "    </tr>\n",
       "  </tbody>\n",
       "</table>\n",
       "</div>"
      ],
      "text/plain": [
       "  Postal Code   Latitude  Longitude\n",
       "0         M1B  43.806686 -79.194353\n",
       "1         M1C  43.784535 -79.160497\n",
       "2         M1E  43.763573 -79.188711\n",
       "3         M1G  43.770992 -79.216917\n",
       "4         M1H  43.773136 -79.239476"
      ]
     },
     "execution_count": 30,
     "metadata": {},
     "output_type": "execute_result"
    }
   ],
   "source": [
    "coordinates.head()"
   ]
  },
  {
   "cell_type": "code",
   "execution_count": 31,
   "metadata": {},
   "outputs": [
    {
     "data": {
      "text/plain": [
       "(103, 3)"
      ]
     },
     "execution_count": 31,
     "metadata": {},
     "output_type": "execute_result"
    }
   ],
   "source": [
    "coordinates.shape"
   ]
  },
  {
   "cell_type": "code",
   "execution_count": 32,
   "metadata": {},
   "outputs": [],
   "source": [
    "# Merging dataframes\n",
    "postal_codes_df = pd.merge(postal_codes_df, coordinates, on='Postal Code')"
   ]
  },
  {
   "cell_type": "code",
   "execution_count": 33,
   "metadata": {},
   "outputs": [
    {
     "data": {
      "text/html": [
       "<div>\n",
       "<style scoped>\n",
       "    .dataframe tbody tr th:only-of-type {\n",
       "        vertical-align: middle;\n",
       "    }\n",
       "\n",
       "    .dataframe tbody tr th {\n",
       "        vertical-align: top;\n",
       "    }\n",
       "\n",
       "    .dataframe thead th {\n",
       "        text-align: right;\n",
       "    }\n",
       "</style>\n",
       "<table border=\"1\" class=\"dataframe\">\n",
       "  <thead>\n",
       "    <tr style=\"text-align: right;\">\n",
       "      <th></th>\n",
       "      <th>Postal Code</th>\n",
       "      <th>Borough</th>\n",
       "      <th>Neighbourhood</th>\n",
       "      <th>Latitude</th>\n",
       "      <th>Longitude</th>\n",
       "    </tr>\n",
       "  </thead>\n",
       "  <tbody>\n",
       "    <tr>\n",
       "      <th>0</th>\n",
       "      <td>M3A</td>\n",
       "      <td>North York</td>\n",
       "      <td>Parkwoods</td>\n",
       "      <td>43.753259</td>\n",
       "      <td>-79.329656</td>\n",
       "    </tr>\n",
       "    <tr>\n",
       "      <th>1</th>\n",
       "      <td>M4A</td>\n",
       "      <td>North York</td>\n",
       "      <td>Victoria Village</td>\n",
       "      <td>43.725882</td>\n",
       "      <td>-79.315572</td>\n",
       "    </tr>\n",
       "    <tr>\n",
       "      <th>2</th>\n",
       "      <td>M5A</td>\n",
       "      <td>Downtown Toronto</td>\n",
       "      <td>Regent Park, Harbourfront</td>\n",
       "      <td>43.654260</td>\n",
       "      <td>-79.360636</td>\n",
       "    </tr>\n",
       "    <tr>\n",
       "      <th>3</th>\n",
       "      <td>M6A</td>\n",
       "      <td>North York</td>\n",
       "      <td>Lawrence Manor, Lawrence Heights</td>\n",
       "      <td>43.718518</td>\n",
       "      <td>-79.464763</td>\n",
       "    </tr>\n",
       "    <tr>\n",
       "      <th>4</th>\n",
       "      <td>M7A</td>\n",
       "      <td>Downtown Toronto</td>\n",
       "      <td>Queen's Park, Ontario Provincial Government</td>\n",
       "      <td>43.662301</td>\n",
       "      <td>-79.389494</td>\n",
       "    </tr>\n",
       "  </tbody>\n",
       "</table>\n",
       "</div>"
      ],
      "text/plain": [
       "  Postal Code           Borough                                Neighbourhood  \\\n",
       "0         M3A        North York                                    Parkwoods   \n",
       "1         M4A        North York                             Victoria Village   \n",
       "2         M5A  Downtown Toronto                    Regent Park, Harbourfront   \n",
       "3         M6A        North York             Lawrence Manor, Lawrence Heights   \n",
       "4         M7A  Downtown Toronto  Queen's Park, Ontario Provincial Government   \n",
       "\n",
       "    Latitude  Longitude  \n",
       "0  43.753259 -79.329656  \n",
       "1  43.725882 -79.315572  \n",
       "2  43.654260 -79.360636  \n",
       "3  43.718518 -79.464763  \n",
       "4  43.662301 -79.389494  "
      ]
     },
     "execution_count": 33,
     "metadata": {},
     "output_type": "execute_result"
    }
   ],
   "source": [
    "postal_codes_df.head()"
   ]
  },
  {
   "cell_type": "code",
   "execution_count": 35,
   "metadata": {},
   "outputs": [
    {
     "name": "stdout",
     "output_type": "stream",
     "text": [
      "<class 'pandas.core.frame.DataFrame'>\n",
      "Int64Index: 103 entries, 0 to 102\n",
      "Data columns (total 5 columns):\n",
      " #   Column         Non-Null Count  Dtype  \n",
      "---  ------         --------------  -----  \n",
      " 0   Postal Code    103 non-null    object \n",
      " 1   Borough        103 non-null    object \n",
      " 2   Neighbourhood  103 non-null    object \n",
      " 3   Latitude       103 non-null    float64\n",
      " 4   Longitude      103 non-null    float64\n",
      "dtypes: float64(2), object(3)\n",
      "memory usage: 4.8+ KB\n"
     ]
    }
   ],
   "source": [
    "# Let's check that we don't have empty cells\n",
    "postal_codes_df.info()"
   ]
  },
  {
   "cell_type": "markdown",
   "metadata": {},
   "source": [
    "<a id='03'></a>\n",
    "## Explore and cluster the neighborhoods in Toronto."
   ]
  },
  {
   "cell_type": "markdown",
   "metadata": {},
   "source": [
    "__Create a map of New York with neighborhoods superimposed on top.__"
   ]
  },
  {
   "cell_type": "code",
   "execution_count": 39,
   "metadata": {},
   "outputs": [],
   "source": [
    "# Download the dependencies that we will need\n",
    "#!conda install -c conda-forge geopy --yes\n",
    "#!pip install folium"
   ]
  },
  {
   "cell_type": "code",
   "execution_count": 124,
   "metadata": {},
   "outputs": [],
   "source": [
    "import folium\n",
    "from geopy.geocoders import Nominatim\n",
    "from sklearn.cluster import KMeans\n",
    "import matplotlib.cm as cm\n",
    "import matplotlib.colors as colors"
   ]
  },
  {
   "cell_type": "markdown",
   "metadata": {},
   "source": [
    "__Get Toronto coordinates__"
   ]
  },
  {
   "cell_type": "code",
   "execution_count": 41,
   "metadata": {},
   "outputs": [
    {
     "name": "stdout",
     "output_type": "stream",
     "text": [
      "The geograpical coordinate of Toronto, Ontario are 43.6534817, -79.3839347.\n"
     ]
    }
   ],
   "source": [
    "address = 'Toronto, Ontario'\n",
    "\n",
    "geolocator = Nominatim(user_agent=\"ny_explorer\")\n",
    "location = geolocator.geocode(address)\n",
    "latitude = location.latitude\n",
    "longitude = location.longitude\n",
    "print('The geograpical coordinate of Toronto, Ontario are {}, {}.'.format(latitude, longitude))"
   ]
  },
  {
   "cell_type": "markdown",
   "metadata": {},
   "source": [
    "__Create a map of Toronto with neighborhoods superimposed on top.__"
   ]
  },
  {
   "cell_type": "code",
   "execution_count": 42,
   "metadata": {},
   "outputs": [
    {
     "data": {
      "text/html": [
       "<div style=\"width:100%;\"><div style=\"position:relative;width:100%;height:0;padding-bottom:60%;\"><span style=\"color:#565656\">Make this Notebook Trusted to load map: File -> Trust Notebook</span><iframe src=\"about:blank\" style=\"position:absolute;width:100%;height:100%;left:0;top:0;border:none !important;\" data-html=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 onload=\"this.contentDocument.open();this.contentDocument.write(atob(this.getAttribute('data-html')));this.contentDocument.close();\" allowfullscreen webkitallowfullscreen mozallowfullscreen></iframe></div></div>"
      ],
      "text/plain": [
       "<folium.folium.Map at 0x7fd7355a53d0>"
      ]
     },
     "execution_count": 42,
     "metadata": {},
     "output_type": "execute_result"
    }
   ],
   "source": [
    "# create map of Toronto using latitude and longitude values\n",
    "map_toronto = folium.Map(location=[latitude, longitude], zoom_start=10)\n",
    "\n",
    "# add markers to map\n",
    "for lat, lng, borough, neighborhood in zip(postal_codes_df['Latitude'], postal_codes_df['Longitude'], postal_codes_df['Borough'], postal_codes_df['Neighbourhood']):\n",
    "    label = '{}, {}'.format(neighborhood, borough)\n",
    "    label = folium.Popup(label, parse_html=True)\n",
    "    folium.CircleMarker(\n",
    "        [lat, lng],\n",
    "        radius=5,\n",
    "        popup=label,\n",
    "        color='blue',\n",
    "        fill=True,\n",
    "        fill_color='#3186cc',\n",
    "        fill_opacity=0.7,\n",
    "        parse_html=False).add_to(map_toronto)  \n",
    "    \n",
    "map_toronto"
   ]
  },
  {
   "cell_type": "markdown",
   "metadata": {},
   "source": [
    "__Let's segment and cluster only the neighborhoods in Downtown Toronto.__"
   ]
  },
  {
   "cell_type": "code",
   "execution_count": 43,
   "metadata": {},
   "outputs": [
    {
     "data": {
      "text/html": [
       "<div>\n",
       "<style scoped>\n",
       "    .dataframe tbody tr th:only-of-type {\n",
       "        vertical-align: middle;\n",
       "    }\n",
       "\n",
       "    .dataframe tbody tr th {\n",
       "        vertical-align: top;\n",
       "    }\n",
       "\n",
       "    .dataframe thead th {\n",
       "        text-align: right;\n",
       "    }\n",
       "</style>\n",
       "<table border=\"1\" class=\"dataframe\">\n",
       "  <thead>\n",
       "    <tr style=\"text-align: right;\">\n",
       "      <th></th>\n",
       "      <th>Postal Code</th>\n",
       "      <th>Borough</th>\n",
       "      <th>Neighbourhood</th>\n",
       "      <th>Latitude</th>\n",
       "      <th>Longitude</th>\n",
       "    </tr>\n",
       "  </thead>\n",
       "  <tbody>\n",
       "    <tr>\n",
       "      <th>0</th>\n",
       "      <td>M5A</td>\n",
       "      <td>Downtown Toronto</td>\n",
       "      <td>Regent Park, Harbourfront</td>\n",
       "      <td>43.654260</td>\n",
       "      <td>-79.360636</td>\n",
       "    </tr>\n",
       "    <tr>\n",
       "      <th>1</th>\n",
       "      <td>M7A</td>\n",
       "      <td>Downtown Toronto</td>\n",
       "      <td>Queen's Park, Ontario Provincial Government</td>\n",
       "      <td>43.662301</td>\n",
       "      <td>-79.389494</td>\n",
       "    </tr>\n",
       "    <tr>\n",
       "      <th>2</th>\n",
       "      <td>M5B</td>\n",
       "      <td>Downtown Toronto</td>\n",
       "      <td>Garden District, Ryerson</td>\n",
       "      <td>43.657162</td>\n",
       "      <td>-79.378937</td>\n",
       "    </tr>\n",
       "    <tr>\n",
       "      <th>3</th>\n",
       "      <td>M5C</td>\n",
       "      <td>Downtown Toronto</td>\n",
       "      <td>St. James Town</td>\n",
       "      <td>43.651494</td>\n",
       "      <td>-79.375418</td>\n",
       "    </tr>\n",
       "    <tr>\n",
       "      <th>4</th>\n",
       "      <td>M5E</td>\n",
       "      <td>Downtown Toronto</td>\n",
       "      <td>Berczy Park</td>\n",
       "      <td>43.644771</td>\n",
       "      <td>-79.373306</td>\n",
       "    </tr>\n",
       "  </tbody>\n",
       "</table>\n",
       "</div>"
      ],
      "text/plain": [
       "  Postal Code           Borough                                Neighbourhood  \\\n",
       "0         M5A  Downtown Toronto                    Regent Park, Harbourfront   \n",
       "1         M7A  Downtown Toronto  Queen's Park, Ontario Provincial Government   \n",
       "2         M5B  Downtown Toronto                     Garden District, Ryerson   \n",
       "3         M5C  Downtown Toronto                               St. James Town   \n",
       "4         M5E  Downtown Toronto                                  Berczy Park   \n",
       "\n",
       "    Latitude  Longitude  \n",
       "0  43.654260 -79.360636  \n",
       "1  43.662301 -79.389494  \n",
       "2  43.657162 -79.378937  \n",
       "3  43.651494 -79.375418  \n",
       "4  43.644771 -79.373306  "
      ]
     },
     "execution_count": 43,
     "metadata": {},
     "output_type": "execute_result"
    }
   ],
   "source": [
    "downtown_data = postal_codes_df[postal_codes_df['Borough'] == 'Downtown Toronto'].reset_index(drop=True)\n",
    "downtown_data.head()"
   ]
  },
  {
   "cell_type": "markdown",
   "metadata": {},
   "source": [
    "__Let's get the geographical coordinates of Downtown.__"
   ]
  },
  {
   "cell_type": "code",
   "execution_count": 44,
   "metadata": {},
   "outputs": [
    {
     "name": "stdout",
     "output_type": "stream",
     "text": [
      "The geograpical coordinate of Downtown Toronto are 43.6563221, -79.3809161.\n"
     ]
    }
   ],
   "source": [
    "address = 'Downtown Toronto'\n",
    "\n",
    "geolocator = Nominatim(user_agent=\"ny_explorer\")\n",
    "location = geolocator.geocode(address)\n",
    "latitude = location.latitude\n",
    "longitude = location.longitude\n",
    "print('The geograpical coordinate of Downtown Toronto are {}, {}.'.format(latitude, longitude))"
   ]
  },
  {
   "cell_type": "code",
   "execution_count": 45,
   "metadata": {},
   "outputs": [
    {
     "data": {
      "text/html": [
       "<div style=\"width:100%;\"><div style=\"position:relative;width:100%;height:0;padding-bottom:60%;\"><span style=\"color:#565656\">Make this Notebook Trusted to load map: File -> Trust Notebook</span><iframe src=\"about:blank\" style=\"position:absolute;width:100%;height:100%;left:0;top:0;border:none !important;\" data-html=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 onload=\"this.contentDocument.open();this.contentDocument.write(atob(this.getAttribute('data-html')));this.contentDocument.close();\" allowfullscreen webkitallowfullscreen mozallowfullscreen></iframe></div></div>"
      ],
      "text/plain": [
       "<folium.folium.Map at 0x7fd7356b8a00>"
      ]
     },
     "execution_count": 45,
     "metadata": {},
     "output_type": "execute_result"
    }
   ],
   "source": [
    "# create map of Downtown Toronto using latitude and longitude values\n",
    "map_downtown = folium.Map(location=[latitude, longitude], zoom_start=11)\n",
    "\n",
    "# add markers to map\n",
    "for lat, lng, label in zip(downtown_data['Latitude'], downtown_data['Longitude'], downtown_data['Neighbourhood']):\n",
    "    label = folium.Popup(label, parse_html=True)\n",
    "    folium.CircleMarker(\n",
    "        [lat, lng],\n",
    "        radius=5,\n",
    "        popup=label,\n",
    "        color='blue',\n",
    "        fill=True,\n",
    "        fill_color='#3186cc',\n",
    "        fill_opacity=0.7,\n",
    "        parse_html=False).add_to(map_downtown)  \n",
    "    \n",
    "map_downtown"
   ]
  },
  {
   "cell_type": "markdown",
   "metadata": {},
   "source": [
    "__Define Foursquare Credentials and Version__"
   ]
  },
  {
   "cell_type": "code",
   "execution_count": 46,
   "metadata": {},
   "outputs": [],
   "source": [
    "CLIENT_ID = 'L5QLKOFAIAB0SZ0TH4GDEKBCHY2OTKELEGIMPVLUMK5GLQC5' # your Foursquare ID\n",
    "CLIENT_SECRET = 'MJ1ZDG4RX1ZM2BZSU021MTZB4TACQYGFCYA0UHFMQECQ3DXT' # your Foursquare Secret\n",
    "VERSION = '20180605' # Foursquare API version\n",
    "LIMIT = 100 # A default Foursquare API limit value"
   ]
  },
  {
   "cell_type": "markdown",
   "metadata": {},
   "source": [
    "__Let's explore the first neighborhood in our dataframe.__"
   ]
  },
  {
   "cell_type": "code",
   "execution_count": 47,
   "metadata": {},
   "outputs": [
    {
     "data": {
      "text/plain": [
       "'Regent Park, Harbourfront'"
      ]
     },
     "execution_count": 47,
     "metadata": {},
     "output_type": "execute_result"
    }
   ],
   "source": [
    "downtown_data.loc[0, 'Neighbourhood']"
   ]
  },
  {
   "cell_type": "markdown",
   "metadata": {},
   "source": [
    "__Get the neighborhood's latitude and longitude values.__"
   ]
  },
  {
   "cell_type": "code",
   "execution_count": 48,
   "metadata": {},
   "outputs": [
    {
     "name": "stdout",
     "output_type": "stream",
     "text": [
      "Latitude and longitude values of Regent Park, Harbourfront are 43.6542599, -79.3606359.\n"
     ]
    }
   ],
   "source": [
    "neighborhood_latitude = downtown_data.loc[0, 'Latitude'] # neighborhood latitude value\n",
    "neighborhood_longitude = downtown_data.loc[0, 'Longitude'] # neighborhood longitude value\n",
    "\n",
    "neighborhood_name = downtown_data.loc[0, 'Neighbourhood'] # neighborhood name\n",
    "\n",
    "print('Latitude and longitude values of {} are {}, {}.'.format(neighborhood_name, \n",
    "                                                               neighborhood_latitude, \n",
    "                                                               neighborhood_longitude))"
   ]
  },
  {
   "cell_type": "markdown",
   "metadata": {},
   "source": [
    "__Let's get the top 100 venues that are in Regent Park, Harbourfront within a radius of 500 meters.__"
   ]
  },
  {
   "cell_type": "code",
   "execution_count": 49,
   "metadata": {},
   "outputs": [
    {
     "data": {
      "text/plain": [
       "'https://api.foursquare.com/v2/venues/explore?&client_id=L5QLKOFAIAB0SZ0TH4GDEKBCHY2OTKELEGIMPVLUMK5GLQC5&client_secret=MJ1ZDG4RX1ZM2BZSU021MTZB4TACQYGFCYA0UHFMQECQ3DXT&v=20180605&ll=43.6542599,-79.3606359&radius=500&limit=100'"
      ]
     },
     "execution_count": 49,
     "metadata": {},
     "output_type": "execute_result"
    }
   ],
   "source": [
    "LIMIT = 100 # limit of number of venues returned by Foursquare API\n",
    "radius = 500 # define radius\n",
    "\n",
    "# create URL\n",
    "url = 'https://api.foursquare.com/v2/venues/explore?&client_id={}&client_secret={}&v={}&ll={},{}&radius={}&limit={}'.format(\n",
    "    CLIENT_ID, \n",
    "    CLIENT_SECRET, \n",
    "    VERSION, \n",
    "    neighborhood_latitude, \n",
    "    neighborhood_longitude, \n",
    "    radius, \n",
    "    LIMIT)\n",
    "url # display URL"
   ]
  },
  {
   "cell_type": "code",
   "execution_count": 50,
   "metadata": {},
   "outputs": [],
   "source": [
    "results = requests.get(url).json()"
   ]
  },
  {
   "cell_type": "markdown",
   "metadata": {},
   "source": [
    "__Let's borrow the get_category_type function from the Foursquare lab.__"
   ]
  },
  {
   "cell_type": "code",
   "execution_count": 51,
   "metadata": {},
   "outputs": [],
   "source": [
    "# function that extracts the category of the venue\n",
    "def get_category_type(row):\n",
    "    try:\n",
    "        categories_list = row['categories']\n",
    "    except:\n",
    "        categories_list = row['venue.categories']\n",
    "        \n",
    "    if len(categories_list) == 0:\n",
    "        return None\n",
    "    else:\n",
    "        return categories_list[0]['name']"
   ]
  },
  {
   "cell_type": "markdown",
   "metadata": {},
   "source": [
    "__Clean the json and structure it into a pandas dataframe.__"
   ]
  },
  {
   "cell_type": "code",
   "execution_count": 55,
   "metadata": {},
   "outputs": [
    {
     "data": {
      "text/html": [
       "<div>\n",
       "<style scoped>\n",
       "    .dataframe tbody tr th:only-of-type {\n",
       "        vertical-align: middle;\n",
       "    }\n",
       "\n",
       "    .dataframe tbody tr th {\n",
       "        vertical-align: top;\n",
       "    }\n",
       "\n",
       "    .dataframe thead th {\n",
       "        text-align: right;\n",
       "    }\n",
       "</style>\n",
       "<table border=\"1\" class=\"dataframe\">\n",
       "  <thead>\n",
       "    <tr style=\"text-align: right;\">\n",
       "      <th></th>\n",
       "      <th>name</th>\n",
       "      <th>categories</th>\n",
       "      <th>lat</th>\n",
       "      <th>lng</th>\n",
       "    </tr>\n",
       "  </thead>\n",
       "  <tbody>\n",
       "    <tr>\n",
       "      <th>0</th>\n",
       "      <td>Roselle Desserts</td>\n",
       "      <td>Bakery</td>\n",
       "      <td>43.653447</td>\n",
       "      <td>-79.362017</td>\n",
       "    </tr>\n",
       "    <tr>\n",
       "      <th>1</th>\n",
       "      <td>Tandem Coffee</td>\n",
       "      <td>Coffee Shop</td>\n",
       "      <td>43.653559</td>\n",
       "      <td>-79.361809</td>\n",
       "    </tr>\n",
       "    <tr>\n",
       "      <th>2</th>\n",
       "      <td>Cooper Koo Family YMCA</td>\n",
       "      <td>Distribution Center</td>\n",
       "      <td>43.653249</td>\n",
       "      <td>-79.358008</td>\n",
       "    </tr>\n",
       "    <tr>\n",
       "      <th>3</th>\n",
       "      <td>Impact Kitchen</td>\n",
       "      <td>Restaurant</td>\n",
       "      <td>43.656369</td>\n",
       "      <td>-79.356980</td>\n",
       "    </tr>\n",
       "    <tr>\n",
       "      <th>4</th>\n",
       "      <td>Body Blitz Spa East</td>\n",
       "      <td>Spa</td>\n",
       "      <td>43.654735</td>\n",
       "      <td>-79.359874</td>\n",
       "    </tr>\n",
       "  </tbody>\n",
       "</table>\n",
       "</div>"
      ],
      "text/plain": [
       "                     name           categories        lat        lng\n",
       "0        Roselle Desserts               Bakery  43.653447 -79.362017\n",
       "1           Tandem Coffee          Coffee Shop  43.653559 -79.361809\n",
       "2  Cooper Koo Family YMCA  Distribution Center  43.653249 -79.358008\n",
       "3          Impact Kitchen           Restaurant  43.656369 -79.356980\n",
       "4     Body Blitz Spa East                  Spa  43.654735 -79.359874"
      ]
     },
     "execution_count": 55,
     "metadata": {},
     "output_type": "execute_result"
    }
   ],
   "source": [
    "venues = results['response']['groups'][0]['items']\n",
    "    \n",
    "nearby_venues = pd.json_normalize(venues) # flatten JSON\n",
    "\n",
    "# filter columns\n",
    "filtered_columns = ['venue.name', 'venue.categories', 'venue.location.lat', 'venue.location.lng']\n",
    "nearby_venues =nearby_venues.loc[:, filtered_columns]\n",
    "\n",
    "# filter the category for each row\n",
    "nearby_venues['venue.categories'] = nearby_venues.apply(get_category_type, axis=1)\n",
    "\n",
    "# clean columns\n",
    "nearby_venues.columns = [col.split(\".\")[-1] for col in nearby_venues.columns]\n",
    "\n",
    "nearby_venues.head()"
   ]
  },
  {
   "cell_type": "code",
   "execution_count": 56,
   "metadata": {},
   "outputs": [
    {
     "name": "stdout",
     "output_type": "stream",
     "text": [
      "45 venues were returned by Foursquare.\n"
     ]
    }
   ],
   "source": [
    "print('{} venues were returned by Foursquare.'.format(nearby_venues.shape[0]))"
   ]
  },
  {
   "cell_type": "markdown",
   "metadata": {},
   "source": [
    "__Function to repeat the same process to all the neighborhoods in Downtown__"
   ]
  },
  {
   "cell_type": "code",
   "execution_count": 57,
   "metadata": {},
   "outputs": [],
   "source": [
    "def getNearbyVenues(names, latitudes, longitudes, radius=500):\n",
    "    \n",
    "    venues_list=[]\n",
    "    for name, lat, lng in zip(names, latitudes, longitudes):\n",
    "        print(name)\n",
    "            \n",
    "        # create the API request URL\n",
    "        url = 'https://api.foursquare.com/v2/venues/explore?&client_id={}&client_secret={}&v={}&ll={},{}&radius={}&limit={}'.format(\n",
    "            CLIENT_ID, \n",
    "            CLIENT_SECRET, \n",
    "            VERSION, \n",
    "            lat, \n",
    "            lng, \n",
    "            radius, \n",
    "            LIMIT)\n",
    "            \n",
    "        # make the GET request\n",
    "        results = requests.get(url).json()[\"response\"]['groups'][0]['items']\n",
    "        \n",
    "        # return only relevant information for each nearby venue\n",
    "        venues_list.append([(\n",
    "            name, \n",
    "            lat, \n",
    "            lng, \n",
    "            v['venue']['name'], \n",
    "            v['venue']['location']['lat'], \n",
    "            v['venue']['location']['lng'],  \n",
    "            v['venue']['categories'][0]['name']) for v in results])\n",
    "\n",
    "    nearby_venues = pd.DataFrame([item for venue_list in venues_list for item in venue_list])\n",
    "    nearby_venues.columns = ['Neighborhood', \n",
    "                  'Neighborhood Latitude', \n",
    "                  'Neighborhood Longitude', \n",
    "                  'Venue', \n",
    "                  'Venue Latitude', \n",
    "                  'Venue Longitude', \n",
    "                  'Venue Category']\n",
    "    \n",
    "    return(nearby_venues)"
   ]
  },
  {
   "cell_type": "code",
   "execution_count": 79,
   "metadata": {},
   "outputs": [
    {
     "name": "stdout",
     "output_type": "stream",
     "text": [
      "Regent Park, Harbourfront\n",
      "Queen's Park, Ontario Provincial Government\n",
      "Garden District, Ryerson\n",
      "St. James Town\n",
      "Berczy Park\n",
      "Central Bay Street\n",
      "Christie\n",
      "Richmond, Adelaide, King\n",
      "Harbourfront East, Union Station, Toronto Islands\n",
      "Toronto Dominion Centre, Design Exchange\n",
      "Commerce Court, Victoria Hotel\n",
      "University of Toronto, Harbord\n",
      "Kensington Market, Chinatown, Grange Park\n",
      "CN Tower, King and Spadina, Railway Lands, Harbourfront West, Bathurst Quay, South Niagara, Island airport\n",
      "Rosedale\n",
      "Stn A PO Boxes\n",
      "St. James Town, Cabbagetown\n",
      "First Canadian Place, Underground city\n",
      "Church and Wellesley\n"
     ]
    }
   ],
   "source": [
    "downtown_venues = getNearbyVenues(names=downtown_data['Neighbourhood'],\n",
    "                                   latitudes=downtown_data['Latitude'],\n",
    "                                   longitudes=downtown_data['Longitude']\n",
    "                                  )"
   ]
  },
  {
   "cell_type": "code",
   "execution_count": 80,
   "metadata": {},
   "outputs": [
    {
     "data": {
      "text/plain": [
       "(1253, 7)"
      ]
     },
     "execution_count": 80,
     "metadata": {},
     "output_type": "execute_result"
    }
   ],
   "source": [
    "downtown_venues.shape"
   ]
  },
  {
   "cell_type": "code",
   "execution_count": 83,
   "metadata": {},
   "outputs": [
    {
     "data": {
      "text/html": [
       "<div>\n",
       "<style scoped>\n",
       "    .dataframe tbody tr th:only-of-type {\n",
       "        vertical-align: middle;\n",
       "    }\n",
       "\n",
       "    .dataframe tbody tr th {\n",
       "        vertical-align: top;\n",
       "    }\n",
       "\n",
       "    .dataframe thead th {\n",
       "        text-align: right;\n",
       "    }\n",
       "</style>\n",
       "<table border=\"1\" class=\"dataframe\">\n",
       "  <thead>\n",
       "    <tr style=\"text-align: right;\">\n",
       "      <th></th>\n",
       "      <th>Neighborhood</th>\n",
       "      <th>Neighborhood Latitude</th>\n",
       "      <th>Neighborhood Longitude</th>\n",
       "      <th>Venue</th>\n",
       "      <th>Venue Latitude</th>\n",
       "      <th>Venue Longitude</th>\n",
       "      <th>Venue Category</th>\n",
       "    </tr>\n",
       "  </thead>\n",
       "  <tbody>\n",
       "    <tr>\n",
       "      <th>0</th>\n",
       "      <td>Regent Park, Harbourfront</td>\n",
       "      <td>43.65426</td>\n",
       "      <td>-79.360636</td>\n",
       "      <td>Roselle Desserts</td>\n",
       "      <td>43.653447</td>\n",
       "      <td>-79.362017</td>\n",
       "      <td>Bakery</td>\n",
       "    </tr>\n",
       "    <tr>\n",
       "      <th>1</th>\n",
       "      <td>Regent Park, Harbourfront</td>\n",
       "      <td>43.65426</td>\n",
       "      <td>-79.360636</td>\n",
       "      <td>Tandem Coffee</td>\n",
       "      <td>43.653559</td>\n",
       "      <td>-79.361809</td>\n",
       "      <td>Coffee Shop</td>\n",
       "    </tr>\n",
       "    <tr>\n",
       "      <th>2</th>\n",
       "      <td>Regent Park, Harbourfront</td>\n",
       "      <td>43.65426</td>\n",
       "      <td>-79.360636</td>\n",
       "      <td>Cooper Koo Family YMCA</td>\n",
       "      <td>43.653249</td>\n",
       "      <td>-79.358008</td>\n",
       "      <td>Distribution Center</td>\n",
       "    </tr>\n",
       "    <tr>\n",
       "      <th>3</th>\n",
       "      <td>Regent Park, Harbourfront</td>\n",
       "      <td>43.65426</td>\n",
       "      <td>-79.360636</td>\n",
       "      <td>Impact Kitchen</td>\n",
       "      <td>43.656369</td>\n",
       "      <td>-79.356980</td>\n",
       "      <td>Restaurant</td>\n",
       "    </tr>\n",
       "    <tr>\n",
       "      <th>4</th>\n",
       "      <td>Regent Park, Harbourfront</td>\n",
       "      <td>43.65426</td>\n",
       "      <td>-79.360636</td>\n",
       "      <td>Body Blitz Spa East</td>\n",
       "      <td>43.654735</td>\n",
       "      <td>-79.359874</td>\n",
       "      <td>Spa</td>\n",
       "    </tr>\n",
       "  </tbody>\n",
       "</table>\n",
       "</div>"
      ],
      "text/plain": [
       "                Neighborhood  Neighborhood Latitude  Neighborhood Longitude  \\\n",
       "0  Regent Park, Harbourfront               43.65426              -79.360636   \n",
       "1  Regent Park, Harbourfront               43.65426              -79.360636   \n",
       "2  Regent Park, Harbourfront               43.65426              -79.360636   \n",
       "3  Regent Park, Harbourfront               43.65426              -79.360636   \n",
       "4  Regent Park, Harbourfront               43.65426              -79.360636   \n",
       "\n",
       "                    Venue  Venue Latitude  Venue Longitude  \\\n",
       "0        Roselle Desserts       43.653447       -79.362017   \n",
       "1           Tandem Coffee       43.653559       -79.361809   \n",
       "2  Cooper Koo Family YMCA       43.653249       -79.358008   \n",
       "3          Impact Kitchen       43.656369       -79.356980   \n",
       "4     Body Blitz Spa East       43.654735       -79.359874   \n",
       "\n",
       "        Venue Category  \n",
       "0               Bakery  \n",
       "1          Coffee Shop  \n",
       "2  Distribution Center  \n",
       "3           Restaurant  \n",
       "4                  Spa  "
      ]
     },
     "execution_count": 83,
     "metadata": {},
     "output_type": "execute_result"
    }
   ],
   "source": [
    "downtown_venues.head()"
   ]
  },
  {
   "cell_type": "markdown",
   "metadata": {},
   "source": [
    "__How many venues were returned for each neighborhood__"
   ]
  },
  {
   "cell_type": "code",
   "execution_count": 81,
   "metadata": {},
   "outputs": [
    {
     "data": {
      "text/html": [
       "<div>\n",
       "<style scoped>\n",
       "    .dataframe tbody tr th:only-of-type {\n",
       "        vertical-align: middle;\n",
       "    }\n",
       "\n",
       "    .dataframe tbody tr th {\n",
       "        vertical-align: top;\n",
       "    }\n",
       "\n",
       "    .dataframe thead th {\n",
       "        text-align: right;\n",
       "    }\n",
       "</style>\n",
       "<table border=\"1\" class=\"dataframe\">\n",
       "  <thead>\n",
       "    <tr style=\"text-align: right;\">\n",
       "      <th></th>\n",
       "      <th>Neighborhood Latitude</th>\n",
       "      <th>Neighborhood Longitude</th>\n",
       "      <th>Venue</th>\n",
       "      <th>Venue Latitude</th>\n",
       "      <th>Venue Longitude</th>\n",
       "      <th>Venue Category</th>\n",
       "    </tr>\n",
       "    <tr>\n",
       "      <th>Neighborhood</th>\n",
       "      <th></th>\n",
       "      <th></th>\n",
       "      <th></th>\n",
       "      <th></th>\n",
       "      <th></th>\n",
       "      <th></th>\n",
       "    </tr>\n",
       "  </thead>\n",
       "  <tbody>\n",
       "    <tr>\n",
       "      <th>Berczy Park</th>\n",
       "      <td>55</td>\n",
       "      <td>55</td>\n",
       "      <td>55</td>\n",
       "      <td>55</td>\n",
       "      <td>55</td>\n",
       "      <td>55</td>\n",
       "    </tr>\n",
       "    <tr>\n",
       "      <th>CN Tower, King and Spadina, Railway Lands, Harbourfront West, Bathurst Quay, South Niagara, Island airport</th>\n",
       "      <td>17</td>\n",
       "      <td>17</td>\n",
       "      <td>17</td>\n",
       "      <td>17</td>\n",
       "      <td>17</td>\n",
       "      <td>17</td>\n",
       "    </tr>\n",
       "    <tr>\n",
       "      <th>Central Bay Street</th>\n",
       "      <td>68</td>\n",
       "      <td>68</td>\n",
       "      <td>68</td>\n",
       "      <td>68</td>\n",
       "      <td>68</td>\n",
       "      <td>68</td>\n",
       "    </tr>\n",
       "    <tr>\n",
       "      <th>Christie</th>\n",
       "      <td>16</td>\n",
       "      <td>16</td>\n",
       "      <td>16</td>\n",
       "      <td>16</td>\n",
       "      <td>16</td>\n",
       "      <td>16</td>\n",
       "    </tr>\n",
       "    <tr>\n",
       "      <th>Church and Wellesley</th>\n",
       "      <td>75</td>\n",
       "      <td>75</td>\n",
       "      <td>75</td>\n",
       "      <td>75</td>\n",
       "      <td>75</td>\n",
       "      <td>75</td>\n",
       "    </tr>\n",
       "    <tr>\n",
       "      <th>Commerce Court, Victoria Hotel</th>\n",
       "      <td>100</td>\n",
       "      <td>100</td>\n",
       "      <td>100</td>\n",
       "      <td>100</td>\n",
       "      <td>100</td>\n",
       "      <td>100</td>\n",
       "    </tr>\n",
       "    <tr>\n",
       "      <th>First Canadian Place, Underground city</th>\n",
       "      <td>100</td>\n",
       "      <td>100</td>\n",
       "      <td>100</td>\n",
       "      <td>100</td>\n",
       "      <td>100</td>\n",
       "      <td>100</td>\n",
       "    </tr>\n",
       "    <tr>\n",
       "      <th>Garden District, Ryerson</th>\n",
       "      <td>100</td>\n",
       "      <td>100</td>\n",
       "      <td>100</td>\n",
       "      <td>100</td>\n",
       "      <td>100</td>\n",
       "      <td>100</td>\n",
       "    </tr>\n",
       "    <tr>\n",
       "      <th>Harbourfront East, Union Station, Toronto Islands</th>\n",
       "      <td>100</td>\n",
       "      <td>100</td>\n",
       "      <td>100</td>\n",
       "      <td>100</td>\n",
       "      <td>100</td>\n",
       "      <td>100</td>\n",
       "    </tr>\n",
       "    <tr>\n",
       "      <th>Kensington Market, Chinatown, Grange Park</th>\n",
       "      <td>74</td>\n",
       "      <td>74</td>\n",
       "      <td>74</td>\n",
       "      <td>74</td>\n",
       "      <td>74</td>\n",
       "      <td>74</td>\n",
       "    </tr>\n",
       "    <tr>\n",
       "      <th>Queen's Park, Ontario Provincial Government</th>\n",
       "      <td>33</td>\n",
       "      <td>33</td>\n",
       "      <td>33</td>\n",
       "      <td>33</td>\n",
       "      <td>33</td>\n",
       "      <td>33</td>\n",
       "    </tr>\n",
       "    <tr>\n",
       "      <th>Regent Park, Harbourfront</th>\n",
       "      <td>45</td>\n",
       "      <td>45</td>\n",
       "      <td>45</td>\n",
       "      <td>45</td>\n",
       "      <td>45</td>\n",
       "      <td>45</td>\n",
       "    </tr>\n",
       "    <tr>\n",
       "      <th>Richmond, Adelaide, King</th>\n",
       "      <td>100</td>\n",
       "      <td>100</td>\n",
       "      <td>100</td>\n",
       "      <td>100</td>\n",
       "      <td>100</td>\n",
       "      <td>100</td>\n",
       "    </tr>\n",
       "    <tr>\n",
       "      <th>Rosedale</th>\n",
       "      <td>5</td>\n",
       "      <td>5</td>\n",
       "      <td>5</td>\n",
       "      <td>5</td>\n",
       "      <td>5</td>\n",
       "      <td>5</td>\n",
       "    </tr>\n",
       "    <tr>\n",
       "      <th>St. James Town</th>\n",
       "      <td>85</td>\n",
       "      <td>85</td>\n",
       "      <td>85</td>\n",
       "      <td>85</td>\n",
       "      <td>85</td>\n",
       "      <td>85</td>\n",
       "    </tr>\n",
       "    <tr>\n",
       "      <th>St. James Town, Cabbagetown</th>\n",
       "      <td>50</td>\n",
       "      <td>50</td>\n",
       "      <td>50</td>\n",
       "      <td>50</td>\n",
       "      <td>50</td>\n",
       "      <td>50</td>\n",
       "    </tr>\n",
       "    <tr>\n",
       "      <th>Stn A PO Boxes</th>\n",
       "      <td>96</td>\n",
       "      <td>96</td>\n",
       "      <td>96</td>\n",
       "      <td>96</td>\n",
       "      <td>96</td>\n",
       "      <td>96</td>\n",
       "    </tr>\n",
       "    <tr>\n",
       "      <th>Toronto Dominion Centre, Design Exchange</th>\n",
       "      <td>100</td>\n",
       "      <td>100</td>\n",
       "      <td>100</td>\n",
       "      <td>100</td>\n",
       "      <td>100</td>\n",
       "      <td>100</td>\n",
       "    </tr>\n",
       "    <tr>\n",
       "      <th>University of Toronto, Harbord</th>\n",
       "      <td>34</td>\n",
       "      <td>34</td>\n",
       "      <td>34</td>\n",
       "      <td>34</td>\n",
       "      <td>34</td>\n",
       "      <td>34</td>\n",
       "    </tr>\n",
       "  </tbody>\n",
       "</table>\n",
       "</div>"
      ],
      "text/plain": [
       "                                                    Neighborhood Latitude  \\\n",
       "Neighborhood                                                                \n",
       "Berczy Park                                                            55   \n",
       "CN Tower, King and Spadina, Railway Lands, Harb...                     17   \n",
       "Central Bay Street                                                     68   \n",
       "Christie                                                               16   \n",
       "Church and Wellesley                                                   75   \n",
       "Commerce Court, Victoria Hotel                                        100   \n",
       "First Canadian Place, Underground city                                100   \n",
       "Garden District, Ryerson                                              100   \n",
       "Harbourfront East, Union Station, Toronto Islands                     100   \n",
       "Kensington Market, Chinatown, Grange Park                              74   \n",
       "Queen's Park, Ontario Provincial Government                            33   \n",
       "Regent Park, Harbourfront                                              45   \n",
       "Richmond, Adelaide, King                                              100   \n",
       "Rosedale                                                                5   \n",
       "St. James Town                                                         85   \n",
       "St. James Town, Cabbagetown                                            50   \n",
       "Stn A PO Boxes                                                         96   \n",
       "Toronto Dominion Centre, Design Exchange                              100   \n",
       "University of Toronto, Harbord                                         34   \n",
       "\n",
       "                                                    Neighborhood Longitude  \\\n",
       "Neighborhood                                                                 \n",
       "Berczy Park                                                             55   \n",
       "CN Tower, King and Spadina, Railway Lands, Harb...                      17   \n",
       "Central Bay Street                                                      68   \n",
       "Christie                                                                16   \n",
       "Church and Wellesley                                                    75   \n",
       "Commerce Court, Victoria Hotel                                         100   \n",
       "First Canadian Place, Underground city                                 100   \n",
       "Garden District, Ryerson                                               100   \n",
       "Harbourfront East, Union Station, Toronto Islands                      100   \n",
       "Kensington Market, Chinatown, Grange Park                               74   \n",
       "Queen's Park, Ontario Provincial Government                             33   \n",
       "Regent Park, Harbourfront                                               45   \n",
       "Richmond, Adelaide, King                                               100   \n",
       "Rosedale                                                                 5   \n",
       "St. James Town                                                          85   \n",
       "St. James Town, Cabbagetown                                             50   \n",
       "Stn A PO Boxes                                                          96   \n",
       "Toronto Dominion Centre, Design Exchange                               100   \n",
       "University of Toronto, Harbord                                          34   \n",
       "\n",
       "                                                    Venue  Venue Latitude  \\\n",
       "Neighborhood                                                                \n",
       "Berczy Park                                            55              55   \n",
       "CN Tower, King and Spadina, Railway Lands, Harb...     17              17   \n",
       "Central Bay Street                                     68              68   \n",
       "Christie                                               16              16   \n",
       "Church and Wellesley                                   75              75   \n",
       "Commerce Court, Victoria Hotel                        100             100   \n",
       "First Canadian Place, Underground city                100             100   \n",
       "Garden District, Ryerson                              100             100   \n",
       "Harbourfront East, Union Station, Toronto Islands     100             100   \n",
       "Kensington Market, Chinatown, Grange Park              74              74   \n",
       "Queen's Park, Ontario Provincial Government            33              33   \n",
       "Regent Park, Harbourfront                              45              45   \n",
       "Richmond, Adelaide, King                              100             100   \n",
       "Rosedale                                                5               5   \n",
       "St. James Town                                         85              85   \n",
       "St. James Town, Cabbagetown                            50              50   \n",
       "Stn A PO Boxes                                         96              96   \n",
       "Toronto Dominion Centre, Design Exchange              100             100   \n",
       "University of Toronto, Harbord                         34              34   \n",
       "\n",
       "                                                    Venue Longitude  \\\n",
       "Neighborhood                                                          \n",
       "Berczy Park                                                      55   \n",
       "CN Tower, King and Spadina, Railway Lands, Harb...               17   \n",
       "Central Bay Street                                               68   \n",
       "Christie                                                         16   \n",
       "Church and Wellesley                                             75   \n",
       "Commerce Court, Victoria Hotel                                  100   \n",
       "First Canadian Place, Underground city                          100   \n",
       "Garden District, Ryerson                                        100   \n",
       "Harbourfront East, Union Station, Toronto Islands               100   \n",
       "Kensington Market, Chinatown, Grange Park                        74   \n",
       "Queen's Park, Ontario Provincial Government                      33   \n",
       "Regent Park, Harbourfront                                        45   \n",
       "Richmond, Adelaide, King                                        100   \n",
       "Rosedale                                                          5   \n",
       "St. James Town                                                   85   \n",
       "St. James Town, Cabbagetown                                      50   \n",
       "Stn A PO Boxes                                                   96   \n",
       "Toronto Dominion Centre, Design Exchange                        100   \n",
       "University of Toronto, Harbord                                   34   \n",
       "\n",
       "                                                    Venue Category  \n",
       "Neighborhood                                                        \n",
       "Berczy Park                                                     55  \n",
       "CN Tower, King and Spadina, Railway Lands, Harb...              17  \n",
       "Central Bay Street                                              68  \n",
       "Christie                                                        16  \n",
       "Church and Wellesley                                            75  \n",
       "Commerce Court, Victoria Hotel                                 100  \n",
       "First Canadian Place, Underground city                         100  \n",
       "Garden District, Ryerson                                       100  \n",
       "Harbourfront East, Union Station, Toronto Islands              100  \n",
       "Kensington Market, Chinatown, Grange Park                       74  \n",
       "Queen's Park, Ontario Provincial Government                     33  \n",
       "Regent Park, Harbourfront                                       45  \n",
       "Richmond, Adelaide, King                                       100  \n",
       "Rosedale                                                         5  \n",
       "St. James Town                                                  85  \n",
       "St. James Town, Cabbagetown                                     50  \n",
       "Stn A PO Boxes                                                  96  \n",
       "Toronto Dominion Centre, Design Exchange                       100  \n",
       "University of Toronto, Harbord                                  34  "
      ]
     },
     "execution_count": 81,
     "metadata": {},
     "output_type": "execute_result"
    }
   ],
   "source": [
    "downtown_venues.groupby('Neighborhood').count()"
   ]
  },
  {
   "cell_type": "markdown",
   "metadata": {},
   "source": [
    "__Let's find out how many unique categories can be curated from all the returned venues__"
   ]
  },
  {
   "cell_type": "code",
   "execution_count": 84,
   "metadata": {},
   "outputs": [
    {
     "name": "stdout",
     "output_type": "stream",
     "text": [
      "There are 214 uniques categories.\n"
     ]
    }
   ],
   "source": [
    "print('There are {} uniques categories.'.format(len(downtown_venues['Venue Category'].unique())))"
   ]
  },
  {
   "cell_type": "markdown",
   "metadata": {},
   "source": [
    "__Analyze Each Neighborhood__"
   ]
  },
  {
   "cell_type": "code",
   "execution_count": 85,
   "metadata": {},
   "outputs": [],
   "source": [
    "# one hot encoding\n",
    "downtown_onehot = pd.get_dummies(downtown_venues[['Venue Category']], prefix=\"\", prefix_sep=\"\")"
   ]
  },
  {
   "cell_type": "code",
   "execution_count": 87,
   "metadata": {},
   "outputs": [],
   "source": [
    "# add neighborhood column back to dataframe\n",
    "downtown_onehot['Neighborhood'] = downtown_venues['Neighborhood'] "
   ]
  },
  {
   "cell_type": "code",
   "execution_count": 94,
   "metadata": {},
   "outputs": [
    {
     "data": {
      "text/html": [
       "<div>\n",
       "<style scoped>\n",
       "    .dataframe tbody tr th:only-of-type {\n",
       "        vertical-align: middle;\n",
       "    }\n",
       "\n",
       "    .dataframe tbody tr th {\n",
       "        vertical-align: top;\n",
       "    }\n",
       "\n",
       "    .dataframe thead th {\n",
       "        text-align: right;\n",
       "    }\n",
       "</style>\n",
       "<table border=\"1\" class=\"dataframe\">\n",
       "  <thead>\n",
       "    <tr style=\"text-align: right;\">\n",
       "      <th></th>\n",
       "      <th>Afghan Restaurant</th>\n",
       "      <th>Airport</th>\n",
       "      <th>Airport Food Court</th>\n",
       "      <th>Airport Gate</th>\n",
       "      <th>Airport Lounge</th>\n",
       "      <th>Airport Service</th>\n",
       "      <th>Airport Terminal</th>\n",
       "      <th>American Restaurant</th>\n",
       "      <th>Antique Shop</th>\n",
       "      <th>Aquarium</th>\n",
       "      <th>...</th>\n",
       "      <th>Theme Restaurant</th>\n",
       "      <th>Toy / Game Store</th>\n",
       "      <th>Trail</th>\n",
       "      <th>Train Station</th>\n",
       "      <th>Vegetarian / Vegan Restaurant</th>\n",
       "      <th>Video Game Store</th>\n",
       "      <th>Vietnamese Restaurant</th>\n",
       "      <th>Wine Bar</th>\n",
       "      <th>Women's Store</th>\n",
       "      <th>Yoga Studio</th>\n",
       "    </tr>\n",
       "  </thead>\n",
       "  <tbody>\n",
       "    <tr>\n",
       "      <th>0</th>\n",
       "      <td>0</td>\n",
       "      <td>0</td>\n",
       "      <td>0</td>\n",
       "      <td>0</td>\n",
       "      <td>0</td>\n",
       "      <td>0</td>\n",
       "      <td>0</td>\n",
       "      <td>0</td>\n",
       "      <td>0</td>\n",
       "      <td>0</td>\n",
       "      <td>...</td>\n",
       "      <td>0</td>\n",
       "      <td>0</td>\n",
       "      <td>0</td>\n",
       "      <td>0</td>\n",
       "      <td>0</td>\n",
       "      <td>0</td>\n",
       "      <td>0</td>\n",
       "      <td>0</td>\n",
       "      <td>0</td>\n",
       "      <td>0</td>\n",
       "    </tr>\n",
       "    <tr>\n",
       "      <th>1</th>\n",
       "      <td>0</td>\n",
       "      <td>0</td>\n",
       "      <td>0</td>\n",
       "      <td>0</td>\n",
       "      <td>0</td>\n",
       "      <td>0</td>\n",
       "      <td>0</td>\n",
       "      <td>0</td>\n",
       "      <td>0</td>\n",
       "      <td>0</td>\n",
       "      <td>...</td>\n",
       "      <td>0</td>\n",
       "      <td>0</td>\n",
       "      <td>0</td>\n",
       "      <td>0</td>\n",
       "      <td>0</td>\n",
       "      <td>0</td>\n",
       "      <td>0</td>\n",
       "      <td>0</td>\n",
       "      <td>0</td>\n",
       "      <td>0</td>\n",
       "    </tr>\n",
       "    <tr>\n",
       "      <th>2</th>\n",
       "      <td>0</td>\n",
       "      <td>0</td>\n",
       "      <td>0</td>\n",
       "      <td>0</td>\n",
       "      <td>0</td>\n",
       "      <td>0</td>\n",
       "      <td>0</td>\n",
       "      <td>0</td>\n",
       "      <td>0</td>\n",
       "      <td>0</td>\n",
       "      <td>...</td>\n",
       "      <td>0</td>\n",
       "      <td>0</td>\n",
       "      <td>0</td>\n",
       "      <td>0</td>\n",
       "      <td>0</td>\n",
       "      <td>0</td>\n",
       "      <td>0</td>\n",
       "      <td>0</td>\n",
       "      <td>0</td>\n",
       "      <td>0</td>\n",
       "    </tr>\n",
       "    <tr>\n",
       "      <th>3</th>\n",
       "      <td>0</td>\n",
       "      <td>0</td>\n",
       "      <td>0</td>\n",
       "      <td>0</td>\n",
       "      <td>0</td>\n",
       "      <td>0</td>\n",
       "      <td>0</td>\n",
       "      <td>0</td>\n",
       "      <td>0</td>\n",
       "      <td>0</td>\n",
       "      <td>...</td>\n",
       "      <td>0</td>\n",
       "      <td>0</td>\n",
       "      <td>0</td>\n",
       "      <td>0</td>\n",
       "      <td>0</td>\n",
       "      <td>0</td>\n",
       "      <td>0</td>\n",
       "      <td>0</td>\n",
       "      <td>0</td>\n",
       "      <td>0</td>\n",
       "    </tr>\n",
       "    <tr>\n",
       "      <th>4</th>\n",
       "      <td>0</td>\n",
       "      <td>0</td>\n",
       "      <td>0</td>\n",
       "      <td>0</td>\n",
       "      <td>0</td>\n",
       "      <td>0</td>\n",
       "      <td>0</td>\n",
       "      <td>0</td>\n",
       "      <td>0</td>\n",
       "      <td>0</td>\n",
       "      <td>...</td>\n",
       "      <td>0</td>\n",
       "      <td>0</td>\n",
       "      <td>0</td>\n",
       "      <td>0</td>\n",
       "      <td>0</td>\n",
       "      <td>0</td>\n",
       "      <td>0</td>\n",
       "      <td>0</td>\n",
       "      <td>0</td>\n",
       "      <td>0</td>\n",
       "    </tr>\n",
       "  </tbody>\n",
       "</table>\n",
       "<p>5 rows × 214 columns</p>\n",
       "</div>"
      ],
      "text/plain": [
       "   Afghan Restaurant  Airport  Airport Food Court  Airport Gate  \\\n",
       "0                  0        0                   0             0   \n",
       "1                  0        0                   0             0   \n",
       "2                  0        0                   0             0   \n",
       "3                  0        0                   0             0   \n",
       "4                  0        0                   0             0   \n",
       "\n",
       "   Airport Lounge  Airport Service  Airport Terminal  American Restaurant  \\\n",
       "0               0                0                 0                    0   \n",
       "1               0                0                 0                    0   \n",
       "2               0                0                 0                    0   \n",
       "3               0                0                 0                    0   \n",
       "4               0                0                 0                    0   \n",
       "\n",
       "   Antique Shop  Aquarium  ...  Theme Restaurant  Toy / Game Store  Trail  \\\n",
       "0             0         0  ...                 0                 0      0   \n",
       "1             0         0  ...                 0                 0      0   \n",
       "2             0         0  ...                 0                 0      0   \n",
       "3             0         0  ...                 0                 0      0   \n",
       "4             0         0  ...                 0                 0      0   \n",
       "\n",
       "   Train Station  Vegetarian / Vegan Restaurant  Video Game Store  \\\n",
       "0              0                              0                 0   \n",
       "1              0                              0                 0   \n",
       "2              0                              0                 0   \n",
       "3              0                              0                 0   \n",
       "4              0                              0                 0   \n",
       "\n",
       "   Vietnamese Restaurant  Wine Bar  Women's Store  Yoga Studio  \n",
       "0                      0         0              0            0  \n",
       "1                      0         0              0            0  \n",
       "2                      0         0              0            0  \n",
       "3                      0         0              0            0  \n",
       "4                      0         0              0            0  \n",
       "\n",
       "[5 rows x 214 columns]"
      ]
     },
     "execution_count": 94,
     "metadata": {},
     "output_type": "execute_result"
    }
   ],
   "source": [
    "downtown_onehot.head()"
   ]
  },
  {
   "cell_type": "code",
   "execution_count": 95,
   "metadata": {},
   "outputs": [
    {
     "data": {
      "text/plain": [
       "(1253, 214)"
      ]
     },
     "execution_count": 95,
     "metadata": {},
     "output_type": "execute_result"
    }
   ],
   "source": [
    "downtown_onehot.shape"
   ]
  },
  {
   "cell_type": "code",
   "execution_count": 93,
   "metadata": {},
   "outputs": [],
   "source": [
    "# move neighborhood column to the first column\n",
    "#fixed_columns = [downtown_onehot.columns[-1]] + list(downtown_venues.columns[:-1])\n",
    "#downtown_onehot = downtown_onehot[fixed_columns]"
   ]
  },
  {
   "cell_type": "markdown",
   "metadata": {},
   "source": [
    "__Group rows by neighborhood and by taking the mean of the frequency of occurrence of each category__"
   ]
  },
  {
   "cell_type": "code",
   "execution_count": 97,
   "metadata": {},
   "outputs": [
    {
     "data": {
      "text/html": [
       "<div>\n",
       "<style scoped>\n",
       "    .dataframe tbody tr th:only-of-type {\n",
       "        vertical-align: middle;\n",
       "    }\n",
       "\n",
       "    .dataframe tbody tr th {\n",
       "        vertical-align: top;\n",
       "    }\n",
       "\n",
       "    .dataframe thead th {\n",
       "        text-align: right;\n",
       "    }\n",
       "</style>\n",
       "<table border=\"1\" class=\"dataframe\">\n",
       "  <thead>\n",
       "    <tr style=\"text-align: right;\">\n",
       "      <th></th>\n",
       "      <th>Neighborhood</th>\n",
       "      <th>Afghan Restaurant</th>\n",
       "      <th>Airport</th>\n",
       "      <th>Airport Food Court</th>\n",
       "      <th>Airport Gate</th>\n",
       "      <th>Airport Lounge</th>\n",
       "      <th>Airport Service</th>\n",
       "      <th>Airport Terminal</th>\n",
       "      <th>American Restaurant</th>\n",
       "      <th>Antique Shop</th>\n",
       "      <th>...</th>\n",
       "      <th>Theme Restaurant</th>\n",
       "      <th>Toy / Game Store</th>\n",
       "      <th>Trail</th>\n",
       "      <th>Train Station</th>\n",
       "      <th>Vegetarian / Vegan Restaurant</th>\n",
       "      <th>Video Game Store</th>\n",
       "      <th>Vietnamese Restaurant</th>\n",
       "      <th>Wine Bar</th>\n",
       "      <th>Women's Store</th>\n",
       "      <th>Yoga Studio</th>\n",
       "    </tr>\n",
       "  </thead>\n",
       "  <tbody>\n",
       "    <tr>\n",
       "      <th>0</th>\n",
       "      <td>Berczy Park</td>\n",
       "      <td>0.000000</td>\n",
       "      <td>0.000000</td>\n",
       "      <td>0.000000</td>\n",
       "      <td>0.000000</td>\n",
       "      <td>0.000000</td>\n",
       "      <td>0.000000</td>\n",
       "      <td>0.000000</td>\n",
       "      <td>0.000000</td>\n",
       "      <td>0.0</td>\n",
       "      <td>...</td>\n",
       "      <td>0.000000</td>\n",
       "      <td>0.0</td>\n",
       "      <td>0.0</td>\n",
       "      <td>0.0</td>\n",
       "      <td>0.018182</td>\n",
       "      <td>0.0</td>\n",
       "      <td>0.000000</td>\n",
       "      <td>0.000000</td>\n",
       "      <td>0.0</td>\n",
       "      <td>0.000000</td>\n",
       "    </tr>\n",
       "    <tr>\n",
       "      <th>1</th>\n",
       "      <td>CN Tower, King and Spadina, Railway Lands, Har...</td>\n",
       "      <td>0.000000</td>\n",
       "      <td>0.058824</td>\n",
       "      <td>0.058824</td>\n",
       "      <td>0.058824</td>\n",
       "      <td>0.117647</td>\n",
       "      <td>0.117647</td>\n",
       "      <td>0.058824</td>\n",
       "      <td>0.000000</td>\n",
       "      <td>0.0</td>\n",
       "      <td>...</td>\n",
       "      <td>0.000000</td>\n",
       "      <td>0.0</td>\n",
       "      <td>0.0</td>\n",
       "      <td>0.0</td>\n",
       "      <td>0.000000</td>\n",
       "      <td>0.0</td>\n",
       "      <td>0.000000</td>\n",
       "      <td>0.000000</td>\n",
       "      <td>0.0</td>\n",
       "      <td>0.000000</td>\n",
       "    </tr>\n",
       "    <tr>\n",
       "      <th>2</th>\n",
       "      <td>Central Bay Street</td>\n",
       "      <td>0.000000</td>\n",
       "      <td>0.000000</td>\n",
       "      <td>0.000000</td>\n",
       "      <td>0.000000</td>\n",
       "      <td>0.000000</td>\n",
       "      <td>0.000000</td>\n",
       "      <td>0.000000</td>\n",
       "      <td>0.000000</td>\n",
       "      <td>0.0</td>\n",
       "      <td>...</td>\n",
       "      <td>0.000000</td>\n",
       "      <td>0.0</td>\n",
       "      <td>0.0</td>\n",
       "      <td>0.0</td>\n",
       "      <td>0.014706</td>\n",
       "      <td>0.0</td>\n",
       "      <td>0.000000</td>\n",
       "      <td>0.014706</td>\n",
       "      <td>0.0</td>\n",
       "      <td>0.014706</td>\n",
       "    </tr>\n",
       "    <tr>\n",
       "      <th>3</th>\n",
       "      <td>Christie</td>\n",
       "      <td>0.000000</td>\n",
       "      <td>0.000000</td>\n",
       "      <td>0.000000</td>\n",
       "      <td>0.000000</td>\n",
       "      <td>0.000000</td>\n",
       "      <td>0.000000</td>\n",
       "      <td>0.000000</td>\n",
       "      <td>0.000000</td>\n",
       "      <td>0.0</td>\n",
       "      <td>...</td>\n",
       "      <td>0.000000</td>\n",
       "      <td>0.0</td>\n",
       "      <td>0.0</td>\n",
       "      <td>0.0</td>\n",
       "      <td>0.000000</td>\n",
       "      <td>0.0</td>\n",
       "      <td>0.000000</td>\n",
       "      <td>0.000000</td>\n",
       "      <td>0.0</td>\n",
       "      <td>0.000000</td>\n",
       "    </tr>\n",
       "    <tr>\n",
       "      <th>4</th>\n",
       "      <td>Church and Wellesley</td>\n",
       "      <td>0.013333</td>\n",
       "      <td>0.000000</td>\n",
       "      <td>0.000000</td>\n",
       "      <td>0.000000</td>\n",
       "      <td>0.000000</td>\n",
       "      <td>0.000000</td>\n",
       "      <td>0.000000</td>\n",
       "      <td>0.013333</td>\n",
       "      <td>0.0</td>\n",
       "      <td>...</td>\n",
       "      <td>0.013333</td>\n",
       "      <td>0.0</td>\n",
       "      <td>0.0</td>\n",
       "      <td>0.0</td>\n",
       "      <td>0.000000</td>\n",
       "      <td>0.0</td>\n",
       "      <td>0.013333</td>\n",
       "      <td>0.000000</td>\n",
       "      <td>0.0</td>\n",
       "      <td>0.026667</td>\n",
       "    </tr>\n",
       "  </tbody>\n",
       "</table>\n",
       "<p>5 rows × 214 columns</p>\n",
       "</div>"
      ],
      "text/plain": [
       "                                        Neighborhood  Afghan Restaurant  \\\n",
       "0                                        Berczy Park           0.000000   \n",
       "1  CN Tower, King and Spadina, Railway Lands, Har...           0.000000   \n",
       "2                                 Central Bay Street           0.000000   \n",
       "3                                           Christie           0.000000   \n",
       "4                               Church and Wellesley           0.013333   \n",
       "\n",
       "    Airport  Airport Food Court  Airport Gate  Airport Lounge  \\\n",
       "0  0.000000            0.000000      0.000000        0.000000   \n",
       "1  0.058824            0.058824      0.058824        0.117647   \n",
       "2  0.000000            0.000000      0.000000        0.000000   \n",
       "3  0.000000            0.000000      0.000000        0.000000   \n",
       "4  0.000000            0.000000      0.000000        0.000000   \n",
       "\n",
       "   Airport Service  Airport Terminal  American Restaurant  Antique Shop  ...  \\\n",
       "0         0.000000          0.000000             0.000000           0.0  ...   \n",
       "1         0.117647          0.058824             0.000000           0.0  ...   \n",
       "2         0.000000          0.000000             0.000000           0.0  ...   \n",
       "3         0.000000          0.000000             0.000000           0.0  ...   \n",
       "4         0.000000          0.000000             0.013333           0.0  ...   \n",
       "\n",
       "   Theme Restaurant  Toy / Game Store  Trail  Train Station  \\\n",
       "0          0.000000               0.0    0.0            0.0   \n",
       "1          0.000000               0.0    0.0            0.0   \n",
       "2          0.000000               0.0    0.0            0.0   \n",
       "3          0.000000               0.0    0.0            0.0   \n",
       "4          0.013333               0.0    0.0            0.0   \n",
       "\n",
       "   Vegetarian / Vegan Restaurant  Video Game Store  Vietnamese Restaurant  \\\n",
       "0                       0.018182               0.0               0.000000   \n",
       "1                       0.000000               0.0               0.000000   \n",
       "2                       0.014706               0.0               0.000000   \n",
       "3                       0.000000               0.0               0.000000   \n",
       "4                       0.000000               0.0               0.013333   \n",
       "\n",
       "   Wine Bar  Women's Store  Yoga Studio  \n",
       "0  0.000000            0.0     0.000000  \n",
       "1  0.000000            0.0     0.000000  \n",
       "2  0.014706            0.0     0.014706  \n",
       "3  0.000000            0.0     0.000000  \n",
       "4  0.000000            0.0     0.026667  \n",
       "\n",
       "[5 rows x 214 columns]"
      ]
     },
     "execution_count": 97,
     "metadata": {},
     "output_type": "execute_result"
    }
   ],
   "source": [
    "downtown_grouped = downtown_onehot.groupby('Neighborhood').mean().reset_index()\n",
    "downtown_grouped.head()"
   ]
  },
  {
   "cell_type": "code",
   "execution_count": 98,
   "metadata": {},
   "outputs": [
    {
     "data": {
      "text/plain": [
       "(19, 214)"
      ]
     },
     "execution_count": 98,
     "metadata": {},
     "output_type": "execute_result"
    }
   ],
   "source": [
    "downtown_grouped.shape"
   ]
  },
  {
   "cell_type": "markdown",
   "metadata": {},
   "source": [
    "__Print each neighborhood along with the top 5 most common venues__"
   ]
  },
  {
   "cell_type": "code",
   "execution_count": 99,
   "metadata": {},
   "outputs": [
    {
     "name": "stdout",
     "output_type": "stream",
     "text": [
      "----Berczy Park----\n",
      "                venue  freq\n",
      "0         Coffee Shop  0.09\n",
      "1  Seafood Restaurant  0.04\n",
      "2         Cheese Shop  0.04\n",
      "3        Cocktail Bar  0.04\n",
      "4            Beer Bar  0.04\n",
      "\n",
      "\n",
      "----CN Tower, King and Spadina, Railway Lands, Harbourfront West, Bathurst Quay, South Niagara, Island airport----\n",
      "                 venue  freq\n",
      "0       Airport Lounge  0.12\n",
      "1      Airport Service  0.12\n",
      "2      Harbor / Marina  0.06\n",
      "3              Airport  0.06\n",
      "4  Rental Car Location  0.06\n",
      "\n",
      "\n",
      "----Central Bay Street----\n",
      "                venue  freq\n",
      "0         Coffee Shop  0.18\n",
      "1                Café  0.06\n",
      "2  Italian Restaurant  0.04\n",
      "3      Sandwich Place  0.04\n",
      "4     Bubble Tea Shop  0.03\n",
      "\n",
      "\n",
      "----Christie----\n",
      "                venue  freq\n",
      "0       Grocery Store  0.25\n",
      "1                Café  0.19\n",
      "2                Park  0.12\n",
      "3  Italian Restaurant  0.06\n",
      "4           Nightclub  0.06\n",
      "\n",
      "\n",
      "----Church and Wellesley----\n",
      "                 venue  freq\n",
      "0          Coffee Shop  0.09\n",
      "1  Japanese Restaurant  0.05\n",
      "2     Sushi Restaurant  0.05\n",
      "3              Gay Bar  0.05\n",
      "4           Restaurant  0.04\n",
      "\n",
      "\n",
      "----Commerce Court, Victoria Hotel----\n",
      "         venue  freq\n",
      "0  Coffee Shop  0.12\n",
      "1   Restaurant  0.07\n",
      "2         Café  0.06\n",
      "3        Hotel  0.06\n",
      "4          Gym  0.04\n",
      "\n",
      "\n",
      "----First Canadian Place, Underground city----\n",
      "                 venue  freq\n",
      "0          Coffee Shop  0.11\n",
      "1                 Café  0.07\n",
      "2                Hotel  0.05\n",
      "3           Restaurant  0.04\n",
      "4  Japanese Restaurant  0.04\n",
      "\n",
      "\n",
      "----Garden District, Ryerson----\n",
      "                 venue  freq\n",
      "0          Coffee Shop  0.09\n",
      "1       Clothing Store  0.09\n",
      "2                 Café  0.04\n",
      "3       Cosmetics Shop  0.03\n",
      "4  Japanese Restaurant  0.03\n",
      "\n",
      "\n",
      "----Harbourfront East, Union Station, Toronto Islands----\n",
      "         venue  freq\n",
      "0  Coffee Shop  0.13\n",
      "1     Aquarium  0.05\n",
      "2         Café  0.04\n",
      "3        Hotel  0.04\n",
      "4   Restaurant  0.03\n",
      "\n",
      "\n",
      "----Kensington Market, Chinatown, Grange Park----\n",
      "                           venue  freq\n",
      "0                           Café  0.05\n",
      "1  Vegetarian / Vegan Restaurant  0.05\n",
      "2                    Coffee Shop  0.05\n",
      "3             Mexican Restaurant  0.05\n",
      "4                            Bar  0.05\n",
      "\n",
      "\n",
      "----Queen's Park, Ontario Provincial Government----\n",
      "           venue  freq\n",
      "0    Coffee Shop  0.24\n",
      "1    Yoga Studio  0.03\n",
      "2       Creperie  0.03\n",
      "3  Smoothie Shop  0.03\n",
      "4           Café  0.03\n",
      "\n",
      "\n",
      "----Regent Park, Harbourfront----\n",
      "         venue  freq\n",
      "0  Coffee Shop  0.18\n",
      "1         Park  0.09\n",
      "2       Bakery  0.07\n",
      "3          Pub  0.07\n",
      "4         Café  0.04\n",
      "\n",
      "\n",
      "----Richmond, Adelaide, King----\n",
      "         venue  freq\n",
      "0  Coffee Shop  0.08\n",
      "1         Café  0.05\n",
      "2   Restaurant  0.04\n",
      "3        Hotel  0.04\n",
      "4          Gym  0.04\n",
      "\n",
      "\n",
      "----Rosedale----\n",
      "               venue  freq\n",
      "0               Park   0.4\n",
      "1         Playground   0.2\n",
      "2              Trail   0.2\n",
      "3       Tennis Court   0.2\n",
      "4  Afghan Restaurant   0.0\n",
      "\n",
      "\n",
      "----St. James Town----\n",
      "                 venue  freq\n",
      "0          Coffee Shop  0.07\n",
      "1                 Café  0.06\n",
      "2           Restaurant  0.05\n",
      "3         Cocktail Bar  0.05\n",
      "4  American Restaurant  0.04\n",
      "\n",
      "\n",
      "----St. James Town, Cabbagetown----\n",
      "         venue  freq\n",
      "0  Coffee Shop  0.08\n",
      "1         Café  0.06\n",
      "2  Pizza Place  0.06\n",
      "3   Restaurant  0.06\n",
      "4       Bakery  0.04\n",
      "\n",
      "\n",
      "----Stn A PO Boxes----\n",
      "                venue  freq\n",
      "0         Coffee Shop  0.10\n",
      "1  Italian Restaurant  0.04\n",
      "2                Café  0.03\n",
      "3          Restaurant  0.03\n",
      "4            Beer Bar  0.03\n",
      "\n",
      "\n",
      "----Toronto Dominion Centre, Design Exchange----\n",
      "                 venue  freq\n",
      "0          Coffee Shop  0.14\n",
      "1                Hotel  0.08\n",
      "2                 Café  0.05\n",
      "3           Restaurant  0.05\n",
      "4  Japanese Restaurant  0.03\n",
      "\n",
      "\n",
      "----University of Toronto, Harbord----\n",
      "                 venue  freq\n",
      "0                 Café  0.15\n",
      "1            Bookstore  0.09\n",
      "2               Bakery  0.06\n",
      "3  Japanese Restaurant  0.06\n",
      "4       Sandwich Place  0.06\n",
      "\n",
      "\n"
     ]
    }
   ],
   "source": [
    "num_top_venues = 5\n",
    "\n",
    "for hood in downtown_grouped['Neighborhood']:\n",
    "    print(\"----\"+hood+\"----\")\n",
    "    temp = downtown_grouped[downtown_grouped['Neighborhood'] == hood].T.reset_index()\n",
    "    temp.columns = ['venue','freq']\n",
    "    temp = temp.iloc[1:]\n",
    "    temp['freq'] = temp['freq'].astype(float)\n",
    "    temp = temp.round({'freq': 2})\n",
    "    print(temp.sort_values('freq', ascending=False).reset_index(drop=True).head(num_top_venues))\n",
    "    print('\\n')"
   ]
  },
  {
   "cell_type": "markdown",
   "metadata": {},
   "source": [
    "__Put that into a pandas dataframe__"
   ]
  },
  {
   "cell_type": "code",
   "execution_count": 100,
   "metadata": {},
   "outputs": [],
   "source": [
    "#sort the venues in descending order\n",
    "def return_most_common_venues(row, num_top_venues):\n",
    "    row_categories = row.iloc[1:]\n",
    "    row_categories_sorted = row_categories.sort_values(ascending=False)\n",
    "    \n",
    "    return row_categories_sorted.index.values[0:num_top_venues]"
   ]
  },
  {
   "cell_type": "markdown",
   "metadata": {},
   "source": [
    "__Create the new dataframe and display the top 10 venues for each neighborhood__"
   ]
  },
  {
   "cell_type": "code",
   "execution_count": 117,
   "metadata": {},
   "outputs": [
    {
     "data": {
      "text/html": [
       "<div>\n",
       "<style scoped>\n",
       "    .dataframe tbody tr th:only-of-type {\n",
       "        vertical-align: middle;\n",
       "    }\n",
       "\n",
       "    .dataframe tbody tr th {\n",
       "        vertical-align: top;\n",
       "    }\n",
       "\n",
       "    .dataframe thead th {\n",
       "        text-align: right;\n",
       "    }\n",
       "</style>\n",
       "<table border=\"1\" class=\"dataframe\">\n",
       "  <thead>\n",
       "    <tr style=\"text-align: right;\">\n",
       "      <th></th>\n",
       "      <th>Neighborhood</th>\n",
       "      <th>1st Most Common Venue</th>\n",
       "      <th>2nd Most Common Venue</th>\n",
       "      <th>3rd Most Common Venue</th>\n",
       "      <th>4th Most Common Venue</th>\n",
       "      <th>5th Most Common Venue</th>\n",
       "      <th>6th Most Common Venue</th>\n",
       "      <th>7th Most Common Venue</th>\n",
       "      <th>8th Most Common Venue</th>\n",
       "      <th>9th Most Common Venue</th>\n",
       "      <th>10th Most Common Venue</th>\n",
       "    </tr>\n",
       "  </thead>\n",
       "  <tbody>\n",
       "    <tr>\n",
       "      <th>0</th>\n",
       "      <td>Berczy Park</td>\n",
       "      <td>Coffee Shop</td>\n",
       "      <td>Cheese Shop</td>\n",
       "      <td>Bakery</td>\n",
       "      <td>Seafood Restaurant</td>\n",
       "      <td>Cocktail Bar</td>\n",
       "      <td>Beer Bar</td>\n",
       "      <td>Farmers Market</td>\n",
       "      <td>Restaurant</td>\n",
       "      <td>Pub</td>\n",
       "      <td>Shopping Mall</td>\n",
       "    </tr>\n",
       "    <tr>\n",
       "      <th>1</th>\n",
       "      <td>CN Tower, King and Spadina, Railway Lands, Har...</td>\n",
       "      <td>Airport Lounge</td>\n",
       "      <td>Airport Service</td>\n",
       "      <td>Harbor / Marina</td>\n",
       "      <td>Bar</td>\n",
       "      <td>Historic Site</td>\n",
       "      <td>Plane</td>\n",
       "      <td>Rental Car Location</td>\n",
       "      <td>Sculpture Garden</td>\n",
       "      <td>Boutique</td>\n",
       "      <td>Boat or Ferry</td>\n",
       "    </tr>\n",
       "    <tr>\n",
       "      <th>2</th>\n",
       "      <td>Central Bay Street</td>\n",
       "      <td>Coffee Shop</td>\n",
       "      <td>Café</td>\n",
       "      <td>Sandwich Place</td>\n",
       "      <td>Italian Restaurant</td>\n",
       "      <td>Salad Place</td>\n",
       "      <td>Department Store</td>\n",
       "      <td>Japanese Restaurant</td>\n",
       "      <td>Bubble Tea Shop</td>\n",
       "      <td>Burger Joint</td>\n",
       "      <td>Thai Restaurant</td>\n",
       "    </tr>\n",
       "    <tr>\n",
       "      <th>3</th>\n",
       "      <td>Christie</td>\n",
       "      <td>Grocery Store</td>\n",
       "      <td>Café</td>\n",
       "      <td>Park</td>\n",
       "      <td>Athletics &amp; Sports</td>\n",
       "      <td>Nightclub</td>\n",
       "      <td>Italian Restaurant</td>\n",
       "      <td>Restaurant</td>\n",
       "      <td>Candy Store</td>\n",
       "      <td>Baby Store</td>\n",
       "      <td>Coffee Shop</td>\n",
       "    </tr>\n",
       "    <tr>\n",
       "      <th>4</th>\n",
       "      <td>Church and Wellesley</td>\n",
       "      <td>Coffee Shop</td>\n",
       "      <td>Gay Bar</td>\n",
       "      <td>Sushi Restaurant</td>\n",
       "      <td>Japanese Restaurant</td>\n",
       "      <td>Restaurant</td>\n",
       "      <td>Café</td>\n",
       "      <td>Hotel</td>\n",
       "      <td>Mediterranean Restaurant</td>\n",
       "      <td>Yoga Studio</td>\n",
       "      <td>Men's Store</td>\n",
       "    </tr>\n",
       "  </tbody>\n",
       "</table>\n",
       "</div>"
      ],
      "text/plain": [
       "                                        Neighborhood 1st Most Common Venue  \\\n",
       "0                                        Berczy Park           Coffee Shop   \n",
       "1  CN Tower, King and Spadina, Railway Lands, Har...        Airport Lounge   \n",
       "2                                 Central Bay Street           Coffee Shop   \n",
       "3                                           Christie         Grocery Store   \n",
       "4                               Church and Wellesley           Coffee Shop   \n",
       "\n",
       "  2nd Most Common Venue 3rd Most Common Venue 4th Most Common Venue  \\\n",
       "0           Cheese Shop                Bakery    Seafood Restaurant   \n",
       "1       Airport Service       Harbor / Marina                   Bar   \n",
       "2                  Café        Sandwich Place    Italian Restaurant   \n",
       "3                  Café                  Park    Athletics & Sports   \n",
       "4               Gay Bar      Sushi Restaurant   Japanese Restaurant   \n",
       "\n",
       "  5th Most Common Venue 6th Most Common Venue 7th Most Common Venue  \\\n",
       "0          Cocktail Bar              Beer Bar        Farmers Market   \n",
       "1         Historic Site                 Plane   Rental Car Location   \n",
       "2           Salad Place      Department Store   Japanese Restaurant   \n",
       "3             Nightclub    Italian Restaurant            Restaurant   \n",
       "4            Restaurant                  Café                 Hotel   \n",
       "\n",
       "      8th Most Common Venue 9th Most Common Venue 10th Most Common Venue  \n",
       "0                Restaurant                   Pub          Shopping Mall  \n",
       "1          Sculpture Garden              Boutique          Boat or Ferry  \n",
       "2           Bubble Tea Shop          Burger Joint        Thai Restaurant  \n",
       "3               Candy Store            Baby Store            Coffee Shop  \n",
       "4  Mediterranean Restaurant           Yoga Studio            Men's Store  "
      ]
     },
     "execution_count": 117,
     "metadata": {},
     "output_type": "execute_result"
    }
   ],
   "source": [
    "num_top_venues = 10\n",
    "\n",
    "indicators = ['st', 'nd', 'rd']\n",
    "\n",
    "# create columns according to number of top venues\n",
    "columns = ['Neighborhood']\n",
    "for ind in np.arange(num_top_venues):\n",
    "    try:\n",
    "        columns.append('{}{} Most Common Venue'.format(ind+1, indicators[ind]))\n",
    "    except:\n",
    "        columns.append('{}th Most Common Venue'.format(ind+1))\n",
    "\n",
    "# create a new dataframe\n",
    "neighborhoods_venues_sorted = pd.DataFrame(columns=columns)\n",
    "neighborhoods_venues_sorted['Neighborhood'] = downtown_grouped['Neighborhood']\n",
    "\n",
    "for ind in np.arange(downtown_grouped.shape[0]):\n",
    "    neighborhoods_venues_sorted.iloc[ind, 1:] = return_most_common_venues(downtown_grouped.iloc[ind, :], num_top_venues)\n",
    "\n",
    "neighborhoods_venues_sorted.head()"
   ]
  },
  {
   "cell_type": "markdown",
   "metadata": {},
   "source": [
    "### Cluster Neighborhoods"
   ]
  },
  {
   "cell_type": "markdown",
   "metadata": {},
   "source": [
    "__Run k-means to cluster the neighborhood into 5 clusters__"
   ]
  },
  {
   "cell_type": "code",
   "execution_count": 106,
   "metadata": {},
   "outputs": [
    {
     "data": {
      "text/plain": [
       "array([2, 3, 2, 4, 2, 2, 2, 2, 2, 2], dtype=int32)"
      ]
     },
     "execution_count": 106,
     "metadata": {},
     "output_type": "execute_result"
    }
   ],
   "source": [
    "# set number of clusters\n",
    "kclusters = 5\n",
    "\n",
    "downtown_grouped_clustering = downtown_grouped.drop('Neighborhood', 1)\n",
    "\n",
    "# run k-means clustering\n",
    "kmeans = KMeans(n_clusters=kclusters, random_state=0).fit(downtown_grouped_clustering)\n",
    "\n",
    "# check cluster labels generated for each row in the dataframe\n",
    "kmeans.labels_[0:10] "
   ]
  },
  {
   "cell_type": "markdown",
   "metadata": {},
   "source": [
    "__Create a new dataframe that includes the cluster as well as the top 10 venues for each neighborhood__"
   ]
  },
  {
   "cell_type": "code",
   "execution_count": 118,
   "metadata": {},
   "outputs": [
    {
     "data": {
      "text/html": [
       "<div>\n",
       "<style scoped>\n",
       "    .dataframe tbody tr th:only-of-type {\n",
       "        vertical-align: middle;\n",
       "    }\n",
       "\n",
       "    .dataframe tbody tr th {\n",
       "        vertical-align: top;\n",
       "    }\n",
       "\n",
       "    .dataframe thead th {\n",
       "        text-align: right;\n",
       "    }\n",
       "</style>\n",
       "<table border=\"1\" class=\"dataframe\">\n",
       "  <thead>\n",
       "    <tr style=\"text-align: right;\">\n",
       "      <th></th>\n",
       "      <th>Postal Code</th>\n",
       "      <th>Borough</th>\n",
       "      <th>Neighborhood</th>\n",
       "      <th>Latitude</th>\n",
       "      <th>Longitude</th>\n",
       "      <th>Cluster Labels</th>\n",
       "      <th>1st Most Common Venue</th>\n",
       "      <th>2nd Most Common Venue</th>\n",
       "      <th>3rd Most Common Venue</th>\n",
       "      <th>4th Most Common Venue</th>\n",
       "      <th>5th Most Common Venue</th>\n",
       "      <th>6th Most Common Venue</th>\n",
       "      <th>7th Most Common Venue</th>\n",
       "      <th>8th Most Common Venue</th>\n",
       "      <th>9th Most Common Venue</th>\n",
       "      <th>10th Most Common Venue</th>\n",
       "    </tr>\n",
       "  </thead>\n",
       "  <tbody>\n",
       "    <tr>\n",
       "      <th>0</th>\n",
       "      <td>M5A</td>\n",
       "      <td>Downtown Toronto</td>\n",
       "      <td>Regent Park, Harbourfront</td>\n",
       "      <td>43.654260</td>\n",
       "      <td>-79.360636</td>\n",
       "      <td>0</td>\n",
       "      <td>Coffee Shop</td>\n",
       "      <td>Park</td>\n",
       "      <td>Bakery</td>\n",
       "      <td>Pub</td>\n",
       "      <td>Breakfast Spot</td>\n",
       "      <td>Café</td>\n",
       "      <td>Theater</td>\n",
       "      <td>Shoe Store</td>\n",
       "      <td>Brewery</td>\n",
       "      <td>Restaurant</td>\n",
       "    </tr>\n",
       "    <tr>\n",
       "      <th>1</th>\n",
       "      <td>M7A</td>\n",
       "      <td>Downtown Toronto</td>\n",
       "      <td>Queen's Park, Ontario Provincial Government</td>\n",
       "      <td>43.662301</td>\n",
       "      <td>-79.389494</td>\n",
       "      <td>0</td>\n",
       "      <td>Coffee Shop</td>\n",
       "      <td>Yoga Studio</td>\n",
       "      <td>Bank</td>\n",
       "      <td>Smoothie Shop</td>\n",
       "      <td>Beer Bar</td>\n",
       "      <td>Sandwich Place</td>\n",
       "      <td>Restaurant</td>\n",
       "      <td>Café</td>\n",
       "      <td>Portuguese Restaurant</td>\n",
       "      <td>Chinese Restaurant</td>\n",
       "    </tr>\n",
       "    <tr>\n",
       "      <th>2</th>\n",
       "      <td>M5B</td>\n",
       "      <td>Downtown Toronto</td>\n",
       "      <td>Garden District, Ryerson</td>\n",
       "      <td>43.657162</td>\n",
       "      <td>-79.378937</td>\n",
       "      <td>2</td>\n",
       "      <td>Coffee Shop</td>\n",
       "      <td>Clothing Store</td>\n",
       "      <td>Café</td>\n",
       "      <td>Bubble Tea Shop</td>\n",
       "      <td>Cosmetics Shop</td>\n",
       "      <td>Japanese Restaurant</td>\n",
       "      <td>Bookstore</td>\n",
       "      <td>Diner</td>\n",
       "      <td>Lingerie Store</td>\n",
       "      <td>Italian Restaurant</td>\n",
       "    </tr>\n",
       "    <tr>\n",
       "      <th>3</th>\n",
       "      <td>M5C</td>\n",
       "      <td>Downtown Toronto</td>\n",
       "      <td>St. James Town</td>\n",
       "      <td>43.651494</td>\n",
       "      <td>-79.375418</td>\n",
       "      <td>2</td>\n",
       "      <td>Coffee Shop</td>\n",
       "      <td>Café</td>\n",
       "      <td>Cocktail Bar</td>\n",
       "      <td>Restaurant</td>\n",
       "      <td>Gastropub</td>\n",
       "      <td>Beer Bar</td>\n",
       "      <td>American Restaurant</td>\n",
       "      <td>Gym</td>\n",
       "      <td>Farmers Market</td>\n",
       "      <td>Hotel</td>\n",
       "    </tr>\n",
       "    <tr>\n",
       "      <th>4</th>\n",
       "      <td>M5E</td>\n",
       "      <td>Downtown Toronto</td>\n",
       "      <td>Berczy Park</td>\n",
       "      <td>43.644771</td>\n",
       "      <td>-79.373306</td>\n",
       "      <td>2</td>\n",
       "      <td>Coffee Shop</td>\n",
       "      <td>Cheese Shop</td>\n",
       "      <td>Bakery</td>\n",
       "      <td>Seafood Restaurant</td>\n",
       "      <td>Cocktail Bar</td>\n",
       "      <td>Beer Bar</td>\n",
       "      <td>Farmers Market</td>\n",
       "      <td>Restaurant</td>\n",
       "      <td>Pub</td>\n",
       "      <td>Shopping Mall</td>\n",
       "    </tr>\n",
       "  </tbody>\n",
       "</table>\n",
       "</div>"
      ],
      "text/plain": [
       "  Postal Code           Borough                                 Neighborhood  \\\n",
       "0         M5A  Downtown Toronto                    Regent Park, Harbourfront   \n",
       "1         M7A  Downtown Toronto  Queen's Park, Ontario Provincial Government   \n",
       "2         M5B  Downtown Toronto                     Garden District, Ryerson   \n",
       "3         M5C  Downtown Toronto                               St. James Town   \n",
       "4         M5E  Downtown Toronto                                  Berczy Park   \n",
       "\n",
       "    Latitude  Longitude  Cluster Labels 1st Most Common Venue  \\\n",
       "0  43.654260 -79.360636               0           Coffee Shop   \n",
       "1  43.662301 -79.389494               0           Coffee Shop   \n",
       "2  43.657162 -79.378937               2           Coffee Shop   \n",
       "3  43.651494 -79.375418               2           Coffee Shop   \n",
       "4  43.644771 -79.373306               2           Coffee Shop   \n",
       "\n",
       "  2nd Most Common Venue 3rd Most Common Venue 4th Most Common Venue  \\\n",
       "0                  Park                Bakery                   Pub   \n",
       "1           Yoga Studio                  Bank         Smoothie Shop   \n",
       "2        Clothing Store                  Café       Bubble Tea Shop   \n",
       "3                  Café          Cocktail Bar            Restaurant   \n",
       "4           Cheese Shop                Bakery    Seafood Restaurant   \n",
       "\n",
       "  5th Most Common Venue 6th Most Common Venue 7th Most Common Venue  \\\n",
       "0        Breakfast Spot                  Café               Theater   \n",
       "1              Beer Bar        Sandwich Place            Restaurant   \n",
       "2        Cosmetics Shop   Japanese Restaurant             Bookstore   \n",
       "3             Gastropub              Beer Bar   American Restaurant   \n",
       "4          Cocktail Bar              Beer Bar        Farmers Market   \n",
       "\n",
       "  8th Most Common Venue  9th Most Common Venue 10th Most Common Venue  \n",
       "0            Shoe Store                Brewery             Restaurant  \n",
       "1                  Café  Portuguese Restaurant     Chinese Restaurant  \n",
       "2                 Diner         Lingerie Store     Italian Restaurant  \n",
       "3                   Gym         Farmers Market                  Hotel  \n",
       "4            Restaurant                    Pub          Shopping Mall  "
      ]
     },
     "execution_count": 118,
     "metadata": {},
     "output_type": "execute_result"
    }
   ],
   "source": [
    "# add clustering labels\n",
    "neighborhoods_venues_sorted.insert(0, 'Cluster Labels', kmeans.labels_)\n",
    "\n",
    "downtown_merged = downtown_data\n",
    "\n",
    "# merge manhattan_grouped with manhattan_data to add latitude/longitude for each neighborhood\n",
    "downtown_merged = downtown_merged.join(neighborhoods_venues_sorted.set_index('Neighborhood'), on='Neighborhood')\n",
    "\n",
    "downtown_merged.head() # check the last columns!"
   ]
  },
  {
   "cell_type": "markdown",
   "metadata": {},
   "source": [
    "__Visualize the resulting clusters__"
   ]
  },
  {
   "cell_type": "code",
   "execution_count": 125,
   "metadata": {},
   "outputs": [
    {
     "data": {
      "text/html": [
       "<div style=\"width:100%;\"><div style=\"position:relative;width:100%;height:0;padding-bottom:60%;\"><span style=\"color:#565656\">Make this Notebook Trusted to load map: File -> Trust Notebook</span><iframe src=\"about:blank\" style=\"position:absolute;width:100%;height:100%;left:0;top:0;border:none !important;\" data-html=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 onload=\"this.contentDocument.open();this.contentDocument.write(atob(this.getAttribute('data-html')));this.contentDocument.close();\" allowfullscreen webkitallowfullscreen mozallowfullscreen></iframe></div></div>"
      ],
      "text/plain": [
       "<folium.folium.Map at 0x7fd737773d30>"
      ]
     },
     "execution_count": 125,
     "metadata": {},
     "output_type": "execute_result"
    }
   ],
   "source": [
    "# create map\n",
    "map_clusters = folium.Map(location=[latitude, longitude], zoom_start=11)\n",
    "\n",
    "# set color scheme for the clusters\n",
    "x = np.arange(kclusters)\n",
    "ys = [i + x + (i*x)**2 for i in range(kclusters)]\n",
    "colors_array = cm.rainbow(np.linspace(0, 1, len(ys)))\n",
    "rainbow = [colors.rgb2hex(i) for i in colors_array]\n",
    "\n",
    "# add markers to the map\n",
    "markers_colors = []\n",
    "for lat, lon, poi, cluster in zip(downtown_merged['Latitude'], downtown_merged['Longitude'], downtown_merged['Neighborhood'], downtown_merged['Cluster Labels']):\n",
    "    label = folium.Popup(str(poi) + ' Cluster ' + str(cluster), parse_html=True)\n",
    "    folium.CircleMarker(\n",
    "        [lat, lon],\n",
    "        radius=5,\n",
    "        popup=label,\n",
    "        color=rainbow[cluster-1],\n",
    "        fill=True,\n",
    "        fill_color=rainbow[cluster-1],\n",
    "        fill_opacity=0.7).add_to(map_clusters)\n",
    "       \n",
    "map_clusters"
   ]
  },
  {
   "cell_type": "markdown",
   "metadata": {},
   "source": [
    "__Cluster 1__"
   ]
  },
  {
   "cell_type": "code",
   "execution_count": 126,
   "metadata": {},
   "outputs": [
    {
     "data": {
      "text/html": [
       "<div>\n",
       "<style scoped>\n",
       "    .dataframe tbody tr th:only-of-type {\n",
       "        vertical-align: middle;\n",
       "    }\n",
       "\n",
       "    .dataframe tbody tr th {\n",
       "        vertical-align: top;\n",
       "    }\n",
       "\n",
       "    .dataframe thead th {\n",
       "        text-align: right;\n",
       "    }\n",
       "</style>\n",
       "<table border=\"1\" class=\"dataframe\">\n",
       "  <thead>\n",
       "    <tr style=\"text-align: right;\">\n",
       "      <th></th>\n",
       "      <th>Borough</th>\n",
       "      <th>Cluster Labels</th>\n",
       "      <th>1st Most Common Venue</th>\n",
       "      <th>2nd Most Common Venue</th>\n",
       "      <th>3rd Most Common Venue</th>\n",
       "      <th>4th Most Common Venue</th>\n",
       "      <th>5th Most Common Venue</th>\n",
       "      <th>6th Most Common Venue</th>\n",
       "      <th>7th Most Common Venue</th>\n",
       "      <th>8th Most Common Venue</th>\n",
       "      <th>9th Most Common Venue</th>\n",
       "      <th>10th Most Common Venue</th>\n",
       "    </tr>\n",
       "  </thead>\n",
       "  <tbody>\n",
       "    <tr>\n",
       "      <th>0</th>\n",
       "      <td>Downtown Toronto</td>\n",
       "      <td>0</td>\n",
       "      <td>Coffee Shop</td>\n",
       "      <td>Park</td>\n",
       "      <td>Bakery</td>\n",
       "      <td>Pub</td>\n",
       "      <td>Breakfast Spot</td>\n",
       "      <td>Café</td>\n",
       "      <td>Theater</td>\n",
       "      <td>Shoe Store</td>\n",
       "      <td>Brewery</td>\n",
       "      <td>Restaurant</td>\n",
       "    </tr>\n",
       "    <tr>\n",
       "      <th>1</th>\n",
       "      <td>Downtown Toronto</td>\n",
       "      <td>0</td>\n",
       "      <td>Coffee Shop</td>\n",
       "      <td>Yoga Studio</td>\n",
       "      <td>Bank</td>\n",
       "      <td>Smoothie Shop</td>\n",
       "      <td>Beer Bar</td>\n",
       "      <td>Sandwich Place</td>\n",
       "      <td>Restaurant</td>\n",
       "      <td>Café</td>\n",
       "      <td>Portuguese Restaurant</td>\n",
       "      <td>Chinese Restaurant</td>\n",
       "    </tr>\n",
       "  </tbody>\n",
       "</table>\n",
       "</div>"
      ],
      "text/plain": [
       "            Borough  Cluster Labels 1st Most Common Venue  \\\n",
       "0  Downtown Toronto               0           Coffee Shop   \n",
       "1  Downtown Toronto               0           Coffee Shop   \n",
       "\n",
       "  2nd Most Common Venue 3rd Most Common Venue 4th Most Common Venue  \\\n",
       "0                  Park                Bakery                   Pub   \n",
       "1           Yoga Studio                  Bank         Smoothie Shop   \n",
       "\n",
       "  5th Most Common Venue 6th Most Common Venue 7th Most Common Venue  \\\n",
       "0        Breakfast Spot                  Café               Theater   \n",
       "1              Beer Bar        Sandwich Place            Restaurant   \n",
       "\n",
       "  8th Most Common Venue  9th Most Common Venue 10th Most Common Venue  \n",
       "0            Shoe Store                Brewery             Restaurant  \n",
       "1                  Café  Portuguese Restaurant     Chinese Restaurant  "
      ]
     },
     "execution_count": 126,
     "metadata": {},
     "output_type": "execute_result"
    }
   ],
   "source": [
    "downtown_merged.loc[downtown_merged['Cluster Labels'] == 0, downtown_merged.columns[[1] + list(range(5, downtown_merged.shape[1]))]]"
   ]
  },
  {
   "cell_type": "markdown",
   "metadata": {},
   "source": [
    "__Cluster 2__"
   ]
  },
  {
   "cell_type": "code",
   "execution_count": 127,
   "metadata": {},
   "outputs": [
    {
     "data": {
      "text/html": [
       "<div>\n",
       "<style scoped>\n",
       "    .dataframe tbody tr th:only-of-type {\n",
       "        vertical-align: middle;\n",
       "    }\n",
       "\n",
       "    .dataframe tbody tr th {\n",
       "        vertical-align: top;\n",
       "    }\n",
       "\n",
       "    .dataframe thead th {\n",
       "        text-align: right;\n",
       "    }\n",
       "</style>\n",
       "<table border=\"1\" class=\"dataframe\">\n",
       "  <thead>\n",
       "    <tr style=\"text-align: right;\">\n",
       "      <th></th>\n",
       "      <th>Borough</th>\n",
       "      <th>Cluster Labels</th>\n",
       "      <th>1st Most Common Venue</th>\n",
       "      <th>2nd Most Common Venue</th>\n",
       "      <th>3rd Most Common Venue</th>\n",
       "      <th>4th Most Common Venue</th>\n",
       "      <th>5th Most Common Venue</th>\n",
       "      <th>6th Most Common Venue</th>\n",
       "      <th>7th Most Common Venue</th>\n",
       "      <th>8th Most Common Venue</th>\n",
       "      <th>9th Most Common Venue</th>\n",
       "      <th>10th Most Common Venue</th>\n",
       "    </tr>\n",
       "  </thead>\n",
       "  <tbody>\n",
       "    <tr>\n",
       "      <th>14</th>\n",
       "      <td>Downtown Toronto</td>\n",
       "      <td>1</td>\n",
       "      <td>Park</td>\n",
       "      <td>Playground</td>\n",
       "      <td>Trail</td>\n",
       "      <td>Tennis Court</td>\n",
       "      <td>Yoga Studio</td>\n",
       "      <td>Deli / Bodega</td>\n",
       "      <td>Donut Shop</td>\n",
       "      <td>Doner Restaurant</td>\n",
       "      <td>Dog Run</td>\n",
       "      <td>Dive Bar</td>\n",
       "    </tr>\n",
       "  </tbody>\n",
       "</table>\n",
       "</div>"
      ],
      "text/plain": [
       "             Borough  Cluster Labels 1st Most Common Venue  \\\n",
       "14  Downtown Toronto               1                  Park   \n",
       "\n",
       "   2nd Most Common Venue 3rd Most Common Venue 4th Most Common Venue  \\\n",
       "14            Playground                 Trail          Tennis Court   \n",
       "\n",
       "   5th Most Common Venue 6th Most Common Venue 7th Most Common Venue  \\\n",
       "14           Yoga Studio         Deli / Bodega            Donut Shop   \n",
       "\n",
       "   8th Most Common Venue 9th Most Common Venue 10th Most Common Venue  \n",
       "14      Doner Restaurant               Dog Run               Dive Bar  "
      ]
     },
     "execution_count": 127,
     "metadata": {},
     "output_type": "execute_result"
    }
   ],
   "source": [
    "downtown_merged.loc[downtown_merged['Cluster Labels'] == 1, downtown_merged.columns[[1] + list(range(5, downtown_merged.shape[1]))]]"
   ]
  },
  {
   "cell_type": "markdown",
   "metadata": {},
   "source": [
    "__Cluster 3__"
   ]
  },
  {
   "cell_type": "code",
   "execution_count": 128,
   "metadata": {},
   "outputs": [
    {
     "data": {
      "text/html": [
       "<div>\n",
       "<style scoped>\n",
       "    .dataframe tbody tr th:only-of-type {\n",
       "        vertical-align: middle;\n",
       "    }\n",
       "\n",
       "    .dataframe tbody tr th {\n",
       "        vertical-align: top;\n",
       "    }\n",
       "\n",
       "    .dataframe thead th {\n",
       "        text-align: right;\n",
       "    }\n",
       "</style>\n",
       "<table border=\"1\" class=\"dataframe\">\n",
       "  <thead>\n",
       "    <tr style=\"text-align: right;\">\n",
       "      <th></th>\n",
       "      <th>Borough</th>\n",
       "      <th>Cluster Labels</th>\n",
       "      <th>1st Most Common Venue</th>\n",
       "      <th>2nd Most Common Venue</th>\n",
       "      <th>3rd Most Common Venue</th>\n",
       "      <th>4th Most Common Venue</th>\n",
       "      <th>5th Most Common Venue</th>\n",
       "      <th>6th Most Common Venue</th>\n",
       "      <th>7th Most Common Venue</th>\n",
       "      <th>8th Most Common Venue</th>\n",
       "      <th>9th Most Common Venue</th>\n",
       "      <th>10th Most Common Venue</th>\n",
       "    </tr>\n",
       "  </thead>\n",
       "  <tbody>\n",
       "    <tr>\n",
       "      <th>2</th>\n",
       "      <td>Downtown Toronto</td>\n",
       "      <td>2</td>\n",
       "      <td>Coffee Shop</td>\n",
       "      <td>Clothing Store</td>\n",
       "      <td>Café</td>\n",
       "      <td>Bubble Tea Shop</td>\n",
       "      <td>Cosmetics Shop</td>\n",
       "      <td>Japanese Restaurant</td>\n",
       "      <td>Bookstore</td>\n",
       "      <td>Diner</td>\n",
       "      <td>Lingerie Store</td>\n",
       "      <td>Italian Restaurant</td>\n",
       "    </tr>\n",
       "    <tr>\n",
       "      <th>3</th>\n",
       "      <td>Downtown Toronto</td>\n",
       "      <td>2</td>\n",
       "      <td>Coffee Shop</td>\n",
       "      <td>Café</td>\n",
       "      <td>Cocktail Bar</td>\n",
       "      <td>Restaurant</td>\n",
       "      <td>Gastropub</td>\n",
       "      <td>Beer Bar</td>\n",
       "      <td>American Restaurant</td>\n",
       "      <td>Gym</td>\n",
       "      <td>Farmers Market</td>\n",
       "      <td>Hotel</td>\n",
       "    </tr>\n",
       "    <tr>\n",
       "      <th>4</th>\n",
       "      <td>Downtown Toronto</td>\n",
       "      <td>2</td>\n",
       "      <td>Coffee Shop</td>\n",
       "      <td>Cheese Shop</td>\n",
       "      <td>Bakery</td>\n",
       "      <td>Seafood Restaurant</td>\n",
       "      <td>Cocktail Bar</td>\n",
       "      <td>Beer Bar</td>\n",
       "      <td>Farmers Market</td>\n",
       "      <td>Restaurant</td>\n",
       "      <td>Pub</td>\n",
       "      <td>Shopping Mall</td>\n",
       "    </tr>\n",
       "    <tr>\n",
       "      <th>5</th>\n",
       "      <td>Downtown Toronto</td>\n",
       "      <td>2</td>\n",
       "      <td>Coffee Shop</td>\n",
       "      <td>Café</td>\n",
       "      <td>Sandwich Place</td>\n",
       "      <td>Italian Restaurant</td>\n",
       "      <td>Salad Place</td>\n",
       "      <td>Department Store</td>\n",
       "      <td>Japanese Restaurant</td>\n",
       "      <td>Bubble Tea Shop</td>\n",
       "      <td>Burger Joint</td>\n",
       "      <td>Thai Restaurant</td>\n",
       "    </tr>\n",
       "    <tr>\n",
       "      <th>7</th>\n",
       "      <td>Downtown Toronto</td>\n",
       "      <td>2</td>\n",
       "      <td>Coffee Shop</td>\n",
       "      <td>Café</td>\n",
       "      <td>Restaurant</td>\n",
       "      <td>Hotel</td>\n",
       "      <td>Gym</td>\n",
       "      <td>Bar</td>\n",
       "      <td>Clothing Store</td>\n",
       "      <td>Thai Restaurant</td>\n",
       "      <td>Salad Place</td>\n",
       "      <td>Concert Hall</td>\n",
       "    </tr>\n",
       "    <tr>\n",
       "      <th>8</th>\n",
       "      <td>Downtown Toronto</td>\n",
       "      <td>2</td>\n",
       "      <td>Coffee Shop</td>\n",
       "      <td>Aquarium</td>\n",
       "      <td>Café</td>\n",
       "      <td>Hotel</td>\n",
       "      <td>Fried Chicken Joint</td>\n",
       "      <td>Brewery</td>\n",
       "      <td>Pizza Place</td>\n",
       "      <td>Scenic Lookout</td>\n",
       "      <td>Restaurant</td>\n",
       "      <td>Baseball Stadium</td>\n",
       "    </tr>\n",
       "    <tr>\n",
       "      <th>9</th>\n",
       "      <td>Downtown Toronto</td>\n",
       "      <td>2</td>\n",
       "      <td>Coffee Shop</td>\n",
       "      <td>Hotel</td>\n",
       "      <td>Café</td>\n",
       "      <td>Restaurant</td>\n",
       "      <td>American Restaurant</td>\n",
       "      <td>Seafood Restaurant</td>\n",
       "      <td>Japanese Restaurant</td>\n",
       "      <td>Salad Place</td>\n",
       "      <td>Steakhouse</td>\n",
       "      <td>Beer Bar</td>\n",
       "    </tr>\n",
       "    <tr>\n",
       "      <th>10</th>\n",
       "      <td>Downtown Toronto</td>\n",
       "      <td>2</td>\n",
       "      <td>Coffee Shop</td>\n",
       "      <td>Restaurant</td>\n",
       "      <td>Café</td>\n",
       "      <td>Hotel</td>\n",
       "      <td>Gym</td>\n",
       "      <td>Japanese Restaurant</td>\n",
       "      <td>Deli / Bodega</td>\n",
       "      <td>Seafood Restaurant</td>\n",
       "      <td>American Restaurant</td>\n",
       "      <td>Gastropub</td>\n",
       "    </tr>\n",
       "    <tr>\n",
       "      <th>11</th>\n",
       "      <td>Downtown Toronto</td>\n",
       "      <td>2</td>\n",
       "      <td>Café</td>\n",
       "      <td>Bookstore</td>\n",
       "      <td>Sandwich Place</td>\n",
       "      <td>Bar</td>\n",
       "      <td>Japanese Restaurant</td>\n",
       "      <td>Bakery</td>\n",
       "      <td>Yoga Studio</td>\n",
       "      <td>Italian Restaurant</td>\n",
       "      <td>Beer Bar</td>\n",
       "      <td>Beer Store</td>\n",
       "    </tr>\n",
       "    <tr>\n",
       "      <th>12</th>\n",
       "      <td>Downtown Toronto</td>\n",
       "      <td>2</td>\n",
       "      <td>Café</td>\n",
       "      <td>Vegetarian / Vegan Restaurant</td>\n",
       "      <td>Bar</td>\n",
       "      <td>Coffee Shop</td>\n",
       "      <td>Mexican Restaurant</td>\n",
       "      <td>Vietnamese Restaurant</td>\n",
       "      <td>Gaming Cafe</td>\n",
       "      <td>Dumpling Restaurant</td>\n",
       "      <td>Burger Joint</td>\n",
       "      <td>Pizza Place</td>\n",
       "    </tr>\n",
       "    <tr>\n",
       "      <th>15</th>\n",
       "      <td>Downtown Toronto</td>\n",
       "      <td>2</td>\n",
       "      <td>Coffee Shop</td>\n",
       "      <td>Italian Restaurant</td>\n",
       "      <td>Pub</td>\n",
       "      <td>Restaurant</td>\n",
       "      <td>Café</td>\n",
       "      <td>Beer Bar</td>\n",
       "      <td>Seafood Restaurant</td>\n",
       "      <td>Hotel</td>\n",
       "      <td>Japanese Restaurant</td>\n",
       "      <td>Park</td>\n",
       "    </tr>\n",
       "    <tr>\n",
       "      <th>16</th>\n",
       "      <td>Downtown Toronto</td>\n",
       "      <td>2</td>\n",
       "      <td>Coffee Shop</td>\n",
       "      <td>Pizza Place</td>\n",
       "      <td>Restaurant</td>\n",
       "      <td>Café</td>\n",
       "      <td>Pub</td>\n",
       "      <td>Chinese Restaurant</td>\n",
       "      <td>Italian Restaurant</td>\n",
       "      <td>Park</td>\n",
       "      <td>Market</td>\n",
       "      <td>Bakery</td>\n",
       "    </tr>\n",
       "    <tr>\n",
       "      <th>17</th>\n",
       "      <td>Downtown Toronto</td>\n",
       "      <td>2</td>\n",
       "      <td>Coffee Shop</td>\n",
       "      <td>Café</td>\n",
       "      <td>Hotel</td>\n",
       "      <td>Restaurant</td>\n",
       "      <td>Gym</td>\n",
       "      <td>Japanese Restaurant</td>\n",
       "      <td>Salad Place</td>\n",
       "      <td>Seafood Restaurant</td>\n",
       "      <td>Asian Restaurant</td>\n",
       "      <td>Steakhouse</td>\n",
       "    </tr>\n",
       "    <tr>\n",
       "      <th>18</th>\n",
       "      <td>Downtown Toronto</td>\n",
       "      <td>2</td>\n",
       "      <td>Coffee Shop</td>\n",
       "      <td>Gay Bar</td>\n",
       "      <td>Sushi Restaurant</td>\n",
       "      <td>Japanese Restaurant</td>\n",
       "      <td>Restaurant</td>\n",
       "      <td>Café</td>\n",
       "      <td>Hotel</td>\n",
       "      <td>Mediterranean Restaurant</td>\n",
       "      <td>Yoga Studio</td>\n",
       "      <td>Men's Store</td>\n",
       "    </tr>\n",
       "  </tbody>\n",
       "</table>\n",
       "</div>"
      ],
      "text/plain": [
       "             Borough  Cluster Labels 1st Most Common Venue  \\\n",
       "2   Downtown Toronto               2           Coffee Shop   \n",
       "3   Downtown Toronto               2           Coffee Shop   \n",
       "4   Downtown Toronto               2           Coffee Shop   \n",
       "5   Downtown Toronto               2           Coffee Shop   \n",
       "7   Downtown Toronto               2           Coffee Shop   \n",
       "8   Downtown Toronto               2           Coffee Shop   \n",
       "9   Downtown Toronto               2           Coffee Shop   \n",
       "10  Downtown Toronto               2           Coffee Shop   \n",
       "11  Downtown Toronto               2                  Café   \n",
       "12  Downtown Toronto               2                  Café   \n",
       "15  Downtown Toronto               2           Coffee Shop   \n",
       "16  Downtown Toronto               2           Coffee Shop   \n",
       "17  Downtown Toronto               2           Coffee Shop   \n",
       "18  Downtown Toronto               2           Coffee Shop   \n",
       "\n",
       "            2nd Most Common Venue 3rd Most Common Venue 4th Most Common Venue  \\\n",
       "2                  Clothing Store                  Café       Bubble Tea Shop   \n",
       "3                            Café          Cocktail Bar            Restaurant   \n",
       "4                     Cheese Shop                Bakery    Seafood Restaurant   \n",
       "5                            Café        Sandwich Place    Italian Restaurant   \n",
       "7                            Café            Restaurant                 Hotel   \n",
       "8                        Aquarium                  Café                 Hotel   \n",
       "9                           Hotel                  Café            Restaurant   \n",
       "10                     Restaurant                  Café                 Hotel   \n",
       "11                      Bookstore        Sandwich Place                   Bar   \n",
       "12  Vegetarian / Vegan Restaurant                   Bar           Coffee Shop   \n",
       "15             Italian Restaurant                   Pub            Restaurant   \n",
       "16                    Pizza Place            Restaurant                  Café   \n",
       "17                           Café                 Hotel            Restaurant   \n",
       "18                        Gay Bar      Sushi Restaurant   Japanese Restaurant   \n",
       "\n",
       "   5th Most Common Venue  6th Most Common Venue 7th Most Common Venue  \\\n",
       "2         Cosmetics Shop    Japanese Restaurant             Bookstore   \n",
       "3              Gastropub               Beer Bar   American Restaurant   \n",
       "4           Cocktail Bar               Beer Bar        Farmers Market   \n",
       "5            Salad Place       Department Store   Japanese Restaurant   \n",
       "7                    Gym                    Bar        Clothing Store   \n",
       "8    Fried Chicken Joint                Brewery           Pizza Place   \n",
       "9    American Restaurant     Seafood Restaurant   Japanese Restaurant   \n",
       "10                   Gym    Japanese Restaurant         Deli / Bodega   \n",
       "11   Japanese Restaurant                 Bakery           Yoga Studio   \n",
       "12    Mexican Restaurant  Vietnamese Restaurant           Gaming Cafe   \n",
       "15                  Café               Beer Bar    Seafood Restaurant   \n",
       "16                   Pub     Chinese Restaurant    Italian Restaurant   \n",
       "17                   Gym    Japanese Restaurant           Salad Place   \n",
       "18            Restaurant                   Café                 Hotel   \n",
       "\n",
       "       8th Most Common Venue 9th Most Common Venue 10th Most Common Venue  \n",
       "2                      Diner        Lingerie Store     Italian Restaurant  \n",
       "3                        Gym        Farmers Market                  Hotel  \n",
       "4                 Restaurant                   Pub          Shopping Mall  \n",
       "5            Bubble Tea Shop          Burger Joint        Thai Restaurant  \n",
       "7            Thai Restaurant           Salad Place           Concert Hall  \n",
       "8             Scenic Lookout            Restaurant       Baseball Stadium  \n",
       "9                Salad Place            Steakhouse               Beer Bar  \n",
       "10        Seafood Restaurant   American Restaurant              Gastropub  \n",
       "11        Italian Restaurant              Beer Bar             Beer Store  \n",
       "12       Dumpling Restaurant          Burger Joint            Pizza Place  \n",
       "15                     Hotel   Japanese Restaurant                   Park  \n",
       "16                      Park                Market                 Bakery  \n",
       "17        Seafood Restaurant      Asian Restaurant             Steakhouse  \n",
       "18  Mediterranean Restaurant           Yoga Studio            Men's Store  "
      ]
     },
     "execution_count": 128,
     "metadata": {},
     "output_type": "execute_result"
    }
   ],
   "source": [
    "downtown_merged.loc[downtown_merged['Cluster Labels'] == 2, downtown_merged.columns[[1] + list(range(5, downtown_merged.shape[1]))]]"
   ]
  },
  {
   "cell_type": "markdown",
   "metadata": {},
   "source": [
    "__Cluster 4__"
   ]
  },
  {
   "cell_type": "code",
   "execution_count": 129,
   "metadata": {},
   "outputs": [
    {
     "data": {
      "text/html": [
       "<div>\n",
       "<style scoped>\n",
       "    .dataframe tbody tr th:only-of-type {\n",
       "        vertical-align: middle;\n",
       "    }\n",
       "\n",
       "    .dataframe tbody tr th {\n",
       "        vertical-align: top;\n",
       "    }\n",
       "\n",
       "    .dataframe thead th {\n",
       "        text-align: right;\n",
       "    }\n",
       "</style>\n",
       "<table border=\"1\" class=\"dataframe\">\n",
       "  <thead>\n",
       "    <tr style=\"text-align: right;\">\n",
       "      <th></th>\n",
       "      <th>Borough</th>\n",
       "      <th>Cluster Labels</th>\n",
       "      <th>1st Most Common Venue</th>\n",
       "      <th>2nd Most Common Venue</th>\n",
       "      <th>3rd Most Common Venue</th>\n",
       "      <th>4th Most Common Venue</th>\n",
       "      <th>5th Most Common Venue</th>\n",
       "      <th>6th Most Common Venue</th>\n",
       "      <th>7th Most Common Venue</th>\n",
       "      <th>8th Most Common Venue</th>\n",
       "      <th>9th Most Common Venue</th>\n",
       "      <th>10th Most Common Venue</th>\n",
       "    </tr>\n",
       "  </thead>\n",
       "  <tbody>\n",
       "    <tr>\n",
       "      <th>13</th>\n",
       "      <td>Downtown Toronto</td>\n",
       "      <td>3</td>\n",
       "      <td>Airport Lounge</td>\n",
       "      <td>Airport Service</td>\n",
       "      <td>Harbor / Marina</td>\n",
       "      <td>Bar</td>\n",
       "      <td>Historic Site</td>\n",
       "      <td>Plane</td>\n",
       "      <td>Rental Car Location</td>\n",
       "      <td>Sculpture Garden</td>\n",
       "      <td>Boutique</td>\n",
       "      <td>Boat or Ferry</td>\n",
       "    </tr>\n",
       "  </tbody>\n",
       "</table>\n",
       "</div>"
      ],
      "text/plain": [
       "             Borough  Cluster Labels 1st Most Common Venue  \\\n",
       "13  Downtown Toronto               3        Airport Lounge   \n",
       "\n",
       "   2nd Most Common Venue 3rd Most Common Venue 4th Most Common Venue  \\\n",
       "13       Airport Service       Harbor / Marina                   Bar   \n",
       "\n",
       "   5th Most Common Venue 6th Most Common Venue 7th Most Common Venue  \\\n",
       "13         Historic Site                 Plane   Rental Car Location   \n",
       "\n",
       "   8th Most Common Venue 9th Most Common Venue 10th Most Common Venue  \n",
       "13      Sculpture Garden              Boutique          Boat or Ferry  "
      ]
     },
     "execution_count": 129,
     "metadata": {},
     "output_type": "execute_result"
    }
   ],
   "source": [
    "downtown_merged.loc[downtown_merged['Cluster Labels'] == 3, downtown_merged.columns[[1] + list(range(5, downtown_merged.shape[1]))]]"
   ]
  },
  {
   "cell_type": "markdown",
   "metadata": {},
   "source": [
    "__Cluster 5__"
   ]
  },
  {
   "cell_type": "code",
   "execution_count": 130,
   "metadata": {},
   "outputs": [
    {
     "data": {
      "text/html": [
       "<div>\n",
       "<style scoped>\n",
       "    .dataframe tbody tr th:only-of-type {\n",
       "        vertical-align: middle;\n",
       "    }\n",
       "\n",
       "    .dataframe tbody tr th {\n",
       "        vertical-align: top;\n",
       "    }\n",
       "\n",
       "    .dataframe thead th {\n",
       "        text-align: right;\n",
       "    }\n",
       "</style>\n",
       "<table border=\"1\" class=\"dataframe\">\n",
       "  <thead>\n",
       "    <tr style=\"text-align: right;\">\n",
       "      <th></th>\n",
       "      <th>Borough</th>\n",
       "      <th>Cluster Labels</th>\n",
       "      <th>1st Most Common Venue</th>\n",
       "      <th>2nd Most Common Venue</th>\n",
       "      <th>3rd Most Common Venue</th>\n",
       "      <th>4th Most Common Venue</th>\n",
       "      <th>5th Most Common Venue</th>\n",
       "      <th>6th Most Common Venue</th>\n",
       "      <th>7th Most Common Venue</th>\n",
       "      <th>8th Most Common Venue</th>\n",
       "      <th>9th Most Common Venue</th>\n",
       "      <th>10th Most Common Venue</th>\n",
       "    </tr>\n",
       "  </thead>\n",
       "  <tbody>\n",
       "    <tr>\n",
       "      <th>6</th>\n",
       "      <td>Downtown Toronto</td>\n",
       "      <td>4</td>\n",
       "      <td>Grocery Store</td>\n",
       "      <td>Café</td>\n",
       "      <td>Park</td>\n",
       "      <td>Athletics &amp; Sports</td>\n",
       "      <td>Nightclub</td>\n",
       "      <td>Italian Restaurant</td>\n",
       "      <td>Restaurant</td>\n",
       "      <td>Candy Store</td>\n",
       "      <td>Baby Store</td>\n",
       "      <td>Coffee Shop</td>\n",
       "    </tr>\n",
       "  </tbody>\n",
       "</table>\n",
       "</div>"
      ],
      "text/plain": [
       "            Borough  Cluster Labels 1st Most Common Venue  \\\n",
       "6  Downtown Toronto               4         Grocery Store   \n",
       "\n",
       "  2nd Most Common Venue 3rd Most Common Venue 4th Most Common Venue  \\\n",
       "6                  Café                  Park    Athletics & Sports   \n",
       "\n",
       "  5th Most Common Venue 6th Most Common Venue 7th Most Common Venue  \\\n",
       "6             Nightclub    Italian Restaurant            Restaurant   \n",
       "\n",
       "  8th Most Common Venue 9th Most Common Venue 10th Most Common Venue  \n",
       "6           Candy Store            Baby Store            Coffee Shop  "
      ]
     },
     "execution_count": 130,
     "metadata": {},
     "output_type": "execute_result"
    }
   ],
   "source": [
    "downtown_merged.loc[downtown_merged['Cluster Labels'] == 4, downtown_merged.columns[[1] + list(range(5, downtown_merged.shape[1]))]]"
   ]
  }
 ],
 "metadata": {
  "kernelspec": {
   "display_name": "Python 3",
   "language": "python",
   "name": "python3"
  },
  "language_info": {
   "codemirror_mode": {
    "name": "ipython",
    "version": 3
   },
   "file_extension": ".py",
   "mimetype": "text/x-python",
   "name": "python",
   "nbconvert_exporter": "python",
   "pygments_lexer": "ipython3",
   "version": "3.8.5"
  }
 },
 "nbformat": 4,
 "nbformat_minor": 4
}
